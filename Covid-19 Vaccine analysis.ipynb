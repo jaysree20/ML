{
 "cells": [
  {
   "cell_type": "code",
   "execution_count": 2,
   "metadata": {},
   "outputs": [
    {
     "ename": "ModuleNotFoundError",
     "evalue": "No module named 'plotly'",
     "output_type": "error",
     "traceback": [
      "\u001b[1;31m---------------------------------------------------------------------------\u001b[0m",
      "\u001b[1;31mModuleNotFoundError\u001b[0m                       Traceback (most recent call last)",
      "\u001b[1;32m<ipython-input-2-ec53e6c2e70d>\u001b[0m in \u001b[0;36m<module>\u001b[1;34m\u001b[0m\n\u001b[0;32m      3\u001b[0m \u001b[1;32mimport\u001b[0m \u001b[0mnumpy\u001b[0m \u001b[1;32mas\u001b[0m \u001b[0mnp\u001b[0m\u001b[1;33m\u001b[0m\u001b[1;33m\u001b[0m\u001b[0m\n\u001b[0;32m      4\u001b[0m \u001b[1;32mimport\u001b[0m \u001b[0mmatplotlib\u001b[0m\u001b[1;33m.\u001b[0m\u001b[0mpyplot\u001b[0m \u001b[1;32mas\u001b[0m \u001b[0mplt\u001b[0m\u001b[1;33m\u001b[0m\u001b[1;33m\u001b[0m\u001b[0m\n\u001b[1;32m----> 5\u001b[1;33m \u001b[1;32mimport\u001b[0m \u001b[0mplotly\u001b[0m\u001b[1;33m.\u001b[0m\u001b[0mexpress\u001b[0m \u001b[1;32mas\u001b[0m \u001b[0mpx\u001b[0m\u001b[1;33m\u001b[0m\u001b[1;33m\u001b[0m\u001b[0m\n\u001b[0m\u001b[0;32m      6\u001b[0m \u001b[1;32mimport\u001b[0m \u001b[0mplotly\u001b[0m\u001b[1;33m.\u001b[0m\u001b[0mgraph_objects\u001b[0m \u001b[1;32mas\u001b[0m \u001b[0mgo\u001b[0m\u001b[1;33m\u001b[0m\u001b[1;33m\u001b[0m\u001b[0m\n\u001b[0;32m      7\u001b[0m \u001b[1;32mimport\u001b[0m \u001b[0mmatplotlib\u001b[0m\u001b[1;33m.\u001b[0m\u001b[0mpatches\u001b[0m \u001b[1;32mas\u001b[0m \u001b[0mmpatches\u001b[0m\u001b[1;33m\u001b[0m\u001b[1;33m\u001b[0m\u001b[0m\n",
      "\u001b[1;31mModuleNotFoundError\u001b[0m: No module named 'plotly'"
     ]
    }
   ],
   "source": [
    "#importing libraries to analyse data\n",
    "import pandas as pd\n",
    "import numpy as np\n",
    "import matplotlib.pyplot as plt\n",
    "import plotly.graph_objects as go\n",
    "import matplotlib.patches as mpatches\n",
    "from plotly.subplots import make_subplots\n",
    "from wordcloud import WordCloud\n",
    "import seaborn as sns  \n",
    "sns.set(color_codes = True)\n",
    "sns.set(style=\"whitegrid\")\n",
    "import plotly.figure_factory as ff\n",
    "from plotly.colors import n_colors"
   ]
  },
  {
   "cell_type": "code",
   "execution_count": 3,
   "metadata": {},
   "outputs": [
    {
     "data": {
      "text/html": [
       "<div>\n",
       "<style scoped>\n",
       "    .dataframe tbody tr th:only-of-type {\n",
       "        vertical-align: middle;\n",
       "    }\n",
       "\n",
       "    .dataframe tbody tr th {\n",
       "        vertical-align: top;\n",
       "    }\n",
       "\n",
       "    .dataframe thead th {\n",
       "        text-align: right;\n",
       "    }\n",
       "</style>\n",
       "<table border=\"1\" class=\"dataframe\">\n",
       "  <thead>\n",
       "    <tr style=\"text-align: right;\">\n",
       "      <th></th>\n",
       "      <th>country</th>\n",
       "      <th>iso_code</th>\n",
       "      <th>date</th>\n",
       "      <th>total_vaccinations</th>\n",
       "      <th>people_vaccinated</th>\n",
       "      <th>people_fully_vaccinated</th>\n",
       "      <th>daily_vaccinations_raw</th>\n",
       "      <th>daily_vaccinations</th>\n",
       "      <th>total_vaccinations_per_hundred</th>\n",
       "      <th>people_vaccinated_per_hundred</th>\n",
       "      <th>people_fully_vaccinated_per_hundred</th>\n",
       "      <th>daily_vaccinations_per_million</th>\n",
       "      <th>vaccines</th>\n",
       "      <th>source_name</th>\n",
       "      <th>source_website</th>\n",
       "    </tr>\n",
       "  </thead>\n",
       "  <tbody>\n",
       "    <tr>\n",
       "      <th>0</th>\n",
       "      <td>Afghanistan</td>\n",
       "      <td>AFG</td>\n",
       "      <td>2021-02-22</td>\n",
       "      <td>0.0</td>\n",
       "      <td>0.0</td>\n",
       "      <td>NaN</td>\n",
       "      <td>NaN</td>\n",
       "      <td>NaN</td>\n",
       "      <td>0.0</td>\n",
       "      <td>0.0</td>\n",
       "      <td>NaN</td>\n",
       "      <td>NaN</td>\n",
       "      <td>Johnson&amp;Johnson, Oxford/AstraZeneca, Pfizer/Bi...</td>\n",
       "      <td>World Health Organization</td>\n",
       "      <td>https://covid19.who.int/</td>\n",
       "    </tr>\n",
       "    <tr>\n",
       "      <th>1</th>\n",
       "      <td>Afghanistan</td>\n",
       "      <td>AFG</td>\n",
       "      <td>2021-02-23</td>\n",
       "      <td>NaN</td>\n",
       "      <td>NaN</td>\n",
       "      <td>NaN</td>\n",
       "      <td>NaN</td>\n",
       "      <td>1367.0</td>\n",
       "      <td>NaN</td>\n",
       "      <td>NaN</td>\n",
       "      <td>NaN</td>\n",
       "      <td>35.0</td>\n",
       "      <td>Johnson&amp;Johnson, Oxford/AstraZeneca, Pfizer/Bi...</td>\n",
       "      <td>World Health Organization</td>\n",
       "      <td>https://covid19.who.int/</td>\n",
       "    </tr>\n",
       "    <tr>\n",
       "      <th>2</th>\n",
       "      <td>Afghanistan</td>\n",
       "      <td>AFG</td>\n",
       "      <td>2021-02-24</td>\n",
       "      <td>NaN</td>\n",
       "      <td>NaN</td>\n",
       "      <td>NaN</td>\n",
       "      <td>NaN</td>\n",
       "      <td>1367.0</td>\n",
       "      <td>NaN</td>\n",
       "      <td>NaN</td>\n",
       "      <td>NaN</td>\n",
       "      <td>35.0</td>\n",
       "      <td>Johnson&amp;Johnson, Oxford/AstraZeneca, Pfizer/Bi...</td>\n",
       "      <td>World Health Organization</td>\n",
       "      <td>https://covid19.who.int/</td>\n",
       "    </tr>\n",
       "    <tr>\n",
       "      <th>3</th>\n",
       "      <td>Afghanistan</td>\n",
       "      <td>AFG</td>\n",
       "      <td>2021-02-25</td>\n",
       "      <td>NaN</td>\n",
       "      <td>NaN</td>\n",
       "      <td>NaN</td>\n",
       "      <td>NaN</td>\n",
       "      <td>1367.0</td>\n",
       "      <td>NaN</td>\n",
       "      <td>NaN</td>\n",
       "      <td>NaN</td>\n",
       "      <td>35.0</td>\n",
       "      <td>Johnson&amp;Johnson, Oxford/AstraZeneca, Pfizer/Bi...</td>\n",
       "      <td>World Health Organization</td>\n",
       "      <td>https://covid19.who.int/</td>\n",
       "    </tr>\n",
       "    <tr>\n",
       "      <th>4</th>\n",
       "      <td>Afghanistan</td>\n",
       "      <td>AFG</td>\n",
       "      <td>2021-02-26</td>\n",
       "      <td>NaN</td>\n",
       "      <td>NaN</td>\n",
       "      <td>NaN</td>\n",
       "      <td>NaN</td>\n",
       "      <td>1367.0</td>\n",
       "      <td>NaN</td>\n",
       "      <td>NaN</td>\n",
       "      <td>NaN</td>\n",
       "      <td>35.0</td>\n",
       "      <td>Johnson&amp;Johnson, Oxford/AstraZeneca, Pfizer/Bi...</td>\n",
       "      <td>World Health Organization</td>\n",
       "      <td>https://covid19.who.int/</td>\n",
       "    </tr>\n",
       "  </tbody>\n",
       "</table>\n",
       "</div>"
      ],
      "text/plain": [
       "       country iso_code        date  total_vaccinations  people_vaccinated  \\\n",
       "0  Afghanistan      AFG  2021-02-22                 0.0                0.0   \n",
       "1  Afghanistan      AFG  2021-02-23                 NaN                NaN   \n",
       "2  Afghanistan      AFG  2021-02-24                 NaN                NaN   \n",
       "3  Afghanistan      AFG  2021-02-25                 NaN                NaN   \n",
       "4  Afghanistan      AFG  2021-02-26                 NaN                NaN   \n",
       "\n",
       "   people_fully_vaccinated  daily_vaccinations_raw  daily_vaccinations  \\\n",
       "0                      NaN                     NaN                 NaN   \n",
       "1                      NaN                     NaN              1367.0   \n",
       "2                      NaN                     NaN              1367.0   \n",
       "3                      NaN                     NaN              1367.0   \n",
       "4                      NaN                     NaN              1367.0   \n",
       "\n",
       "   total_vaccinations_per_hundred  people_vaccinated_per_hundred  \\\n",
       "0                             0.0                            0.0   \n",
       "1                             NaN                            NaN   \n",
       "2                             NaN                            NaN   \n",
       "3                             NaN                            NaN   \n",
       "4                             NaN                            NaN   \n",
       "\n",
       "   people_fully_vaccinated_per_hundred  daily_vaccinations_per_million  \\\n",
       "0                                  NaN                             NaN   \n",
       "1                                  NaN                            35.0   \n",
       "2                                  NaN                            35.0   \n",
       "3                                  NaN                            35.0   \n",
       "4                                  NaN                            35.0   \n",
       "\n",
       "                                            vaccines  \\\n",
       "0  Johnson&Johnson, Oxford/AstraZeneca, Pfizer/Bi...   \n",
       "1  Johnson&Johnson, Oxford/AstraZeneca, Pfizer/Bi...   \n",
       "2  Johnson&Johnson, Oxford/AstraZeneca, Pfizer/Bi...   \n",
       "3  Johnson&Johnson, Oxford/AstraZeneca, Pfizer/Bi...   \n",
       "4  Johnson&Johnson, Oxford/AstraZeneca, Pfizer/Bi...   \n",
       "\n",
       "                 source_name            source_website  \n",
       "0  World Health Organization  https://covid19.who.int/  \n",
       "1  World Health Organization  https://covid19.who.int/  \n",
       "2  World Health Organization  https://covid19.who.int/  \n",
       "3  World Health Organization  https://covid19.who.int/  \n",
       "4  World Health Organization  https://covid19.who.int/  "
      ]
     },
     "execution_count": 3,
     "metadata": {},
     "output_type": "execute_result"
    }
   ],
   "source": [
    "#read data and basic information\n",
    "df = pd.read_csv('country_vaccinations.csv')\n",
    "df.head()"
   ]
  },
  {
   "cell_type": "code",
   "execution_count": 4,
   "metadata": {},
   "outputs": [
    {
     "name": "stdout",
     "output_type": "stream",
     "text": [
      "<class 'pandas.core.frame.DataFrame'>\n",
      "RangeIndex: 39113 entries, 0 to 39112\n",
      "Data columns (total 15 columns):\n",
      " #   Column                               Non-Null Count  Dtype  \n",
      "---  ------                               --------------  -----  \n",
      " 0   country                              39113 non-null  object \n",
      " 1   iso_code                             39113 non-null  object \n",
      " 2   date                                 39113 non-null  object \n",
      " 3   total_vaccinations                   21551 non-null  float64\n",
      " 4   people_vaccinated                    20604 non-null  float64\n",
      " 5   people_fully_vaccinated              17728 non-null  float64\n",
      " 6   daily_vaccinations_raw               17713 non-null  float64\n",
      " 7   daily_vaccinations                   38855 non-null  float64\n",
      " 8   total_vaccinations_per_hundred       21551 non-null  float64\n",
      " 9   people_vaccinated_per_hundred        20604 non-null  float64\n",
      " 10  people_fully_vaccinated_per_hundred  17728 non-null  float64\n",
      " 11  daily_vaccinations_per_million       38855 non-null  float64\n",
      " 12  vaccines                             39113 non-null  object \n",
      " 13  source_name                          39113 non-null  object \n",
      " 14  source_website                       39113 non-null  object \n",
      "dtypes: float64(9), object(6)\n",
      "memory usage: 4.5+ MB\n"
     ]
    }
   ],
   "source": [
    "df.info()"
   ]
  },
  {
   "cell_type": "code",
   "execution_count": 5,
   "metadata": {},
   "outputs": [
    {
     "data": {
      "text/plain": [
       "country                                    0\n",
       "iso_code                                   0\n",
       "date                                       0\n",
       "total_vaccinations                     17562\n",
       "people_vaccinated                      18509\n",
       "people_fully_vaccinated                21385\n",
       "daily_vaccinations_raw                 21400\n",
       "daily_vaccinations                       258\n",
       "total_vaccinations_per_hundred         17562\n",
       "people_vaccinated_per_hundred          18509\n",
       "people_fully_vaccinated_per_hundred    21385\n",
       "daily_vaccinations_per_million           258\n",
       "vaccines                                   0\n",
       "source_name                                0\n",
       "source_website                             0\n",
       "dtype: int64"
      ]
     },
     "execution_count": 5,
     "metadata": {},
     "output_type": "execute_result"
    }
   ],
   "source": [
    "df.isnull().sum()"
   ]
  },
  {
   "cell_type": "code",
   "execution_count": 6,
   "metadata": {},
   "outputs": [
    {
     "data": {
      "text/html": [
       "<div>\n",
       "<style scoped>\n",
       "    .dataframe tbody tr th:only-of-type {\n",
       "        vertical-align: middle;\n",
       "    }\n",
       "\n",
       "    .dataframe tbody tr th {\n",
       "        vertical-align: top;\n",
       "    }\n",
       "\n",
       "    .dataframe thead th {\n",
       "        text-align: right;\n",
       "    }\n",
       "</style>\n",
       "<table border=\"1\" class=\"dataframe\">\n",
       "  <thead>\n",
       "    <tr style=\"text-align: right;\">\n",
       "      <th></th>\n",
       "      <th>0</th>\n",
       "      <th>1</th>\n",
       "      <th>2</th>\n",
       "    </tr>\n",
       "  </thead>\n",
       "  <tbody>\n",
       "    <tr>\n",
       "      <th>0</th>\n",
       "      <td>2021</td>\n",
       "      <td>02</td>\n",
       "      <td>22</td>\n",
       "    </tr>\n",
       "    <tr>\n",
       "      <th>1</th>\n",
       "      <td>2021</td>\n",
       "      <td>02</td>\n",
       "      <td>23</td>\n",
       "    </tr>\n",
       "    <tr>\n",
       "      <th>2</th>\n",
       "      <td>2021</td>\n",
       "      <td>02</td>\n",
       "      <td>24</td>\n",
       "    </tr>\n",
       "    <tr>\n",
       "      <th>3</th>\n",
       "      <td>2021</td>\n",
       "      <td>02</td>\n",
       "      <td>25</td>\n",
       "    </tr>\n",
       "    <tr>\n",
       "      <th>4</th>\n",
       "      <td>2021</td>\n",
       "      <td>02</td>\n",
       "      <td>26</td>\n",
       "    </tr>\n",
       "    <tr>\n",
       "      <th>...</th>\n",
       "      <td>...</td>\n",
       "      <td>...</td>\n",
       "      <td>...</td>\n",
       "    </tr>\n",
       "    <tr>\n",
       "      <th>39108</th>\n",
       "      <td>2021</td>\n",
       "      <td>08</td>\n",
       "      <td>17</td>\n",
       "    </tr>\n",
       "    <tr>\n",
       "      <th>39109</th>\n",
       "      <td>2021</td>\n",
       "      <td>08</td>\n",
       "      <td>18</td>\n",
       "    </tr>\n",
       "    <tr>\n",
       "      <th>39110</th>\n",
       "      <td>2021</td>\n",
       "      <td>08</td>\n",
       "      <td>19</td>\n",
       "    </tr>\n",
       "    <tr>\n",
       "      <th>39111</th>\n",
       "      <td>2021</td>\n",
       "      <td>08</td>\n",
       "      <td>20</td>\n",
       "    </tr>\n",
       "    <tr>\n",
       "      <th>39112</th>\n",
       "      <td>2021</td>\n",
       "      <td>08</td>\n",
       "      <td>21</td>\n",
       "    </tr>\n",
       "  </tbody>\n",
       "</table>\n",
       "<p>39113 rows × 3 columns</p>\n",
       "</div>"
      ],
      "text/plain": [
       "          0   1   2\n",
       "0      2021  02  22\n",
       "1      2021  02  23\n",
       "2      2021  02  24\n",
       "3      2021  02  25\n",
       "4      2021  02  26\n",
       "...     ...  ..  ..\n",
       "39108  2021  08  17\n",
       "39109  2021  08  18\n",
       "39110  2021  08  19\n",
       "39111  2021  08  20\n",
       "39112  2021  08  21\n",
       "\n",
       "[39113 rows x 3 columns]"
      ]
     },
     "execution_count": 6,
     "metadata": {},
     "output_type": "execute_result"
    }
   ],
   "source": [
    "#data cleaning\n",
    "df.fillna(value = 0, inplace = True)\n",
    "df.total_vaccinations = df.total_vaccinations.astype(int)\n",
    "df.people_vaccinated = df.people_vaccinated.astype(int)\n",
    "df.people_fully_vaccinated = df.people_fully_vaccinated.astype(int)\n",
    "df.daily_vaccinations_raw = df.daily_vaccinations_raw.astype(int)\n",
    "df.daily_vaccinations = df.daily_vaccinations.astype(int)\n",
    "df.total_vaccinations_per_hundred = df.total_vaccinations_per_hundred.astype(int)\n",
    "df.people_fully_vaccinated_per_hundred = df.people_fully_vaccinated_per_hundred.astype(int)\n",
    "df.daily_vaccinations_per_million = df.daily_vaccinations_per_million.astype(int)\n",
    "df.people_vaccinated_per_hundred = df.people_vaccinated_per_hundred.astype(int)\n",
    "date = df.date.str.split('-', expand =True)\n",
    "date"
   ]
  },
  {
   "cell_type": "code",
   "execution_count": 7,
   "metadata": {},
   "outputs": [
    {
     "data": {
      "text/html": [
       "<div>\n",
       "<style scoped>\n",
       "    .dataframe tbody tr th:only-of-type {\n",
       "        vertical-align: middle;\n",
       "    }\n",
       "\n",
       "    .dataframe tbody tr th {\n",
       "        vertical-align: top;\n",
       "    }\n",
       "\n",
       "    .dataframe thead th {\n",
       "        text-align: right;\n",
       "    }\n",
       "</style>\n",
       "<table border=\"1\" class=\"dataframe\">\n",
       "  <thead>\n",
       "    <tr style=\"text-align: right;\">\n",
       "      <th></th>\n",
       "      <th>country</th>\n",
       "      <th>iso_code</th>\n",
       "      <th>date</th>\n",
       "      <th>total_vaccinations</th>\n",
       "      <th>people_vaccinated</th>\n",
       "      <th>people_fully_vaccinated</th>\n",
       "      <th>daily_vaccinations_raw</th>\n",
       "      <th>daily_vaccinations</th>\n",
       "      <th>total_vaccinations_per_hundred</th>\n",
       "      <th>people_vaccinated_per_hundred</th>\n",
       "      <th>people_fully_vaccinated_per_hundred</th>\n",
       "      <th>daily_vaccinations_per_million</th>\n",
       "      <th>vaccines</th>\n",
       "      <th>source_name</th>\n",
       "      <th>source_website</th>\n",
       "      <th>year</th>\n",
       "      <th>month</th>\n",
       "      <th>day</th>\n",
       "    </tr>\n",
       "  </thead>\n",
       "  <tbody>\n",
       "    <tr>\n",
       "      <th>0</th>\n",
       "      <td>Afghanistan</td>\n",
       "      <td>AFG</td>\n",
       "      <td>2021-02-22</td>\n",
       "      <td>0</td>\n",
       "      <td>0</td>\n",
       "      <td>0</td>\n",
       "      <td>0</td>\n",
       "      <td>0</td>\n",
       "      <td>0</td>\n",
       "      <td>0</td>\n",
       "      <td>0</td>\n",
       "      <td>0</td>\n",
       "      <td>Johnson&amp;Johnson, Oxford/AstraZeneca, Pfizer/Bi...</td>\n",
       "      <td>World Health Organization</td>\n",
       "      <td>https://covid19.who.int/</td>\n",
       "      <td>2021</td>\n",
       "      <td>2</td>\n",
       "      <td>22</td>\n",
       "    </tr>\n",
       "    <tr>\n",
       "      <th>1</th>\n",
       "      <td>Afghanistan</td>\n",
       "      <td>AFG</td>\n",
       "      <td>2021-02-23</td>\n",
       "      <td>0</td>\n",
       "      <td>0</td>\n",
       "      <td>0</td>\n",
       "      <td>0</td>\n",
       "      <td>1367</td>\n",
       "      <td>0</td>\n",
       "      <td>0</td>\n",
       "      <td>0</td>\n",
       "      <td>35</td>\n",
       "      <td>Johnson&amp;Johnson, Oxford/AstraZeneca, Pfizer/Bi...</td>\n",
       "      <td>World Health Organization</td>\n",
       "      <td>https://covid19.who.int/</td>\n",
       "      <td>2021</td>\n",
       "      <td>2</td>\n",
       "      <td>23</td>\n",
       "    </tr>\n",
       "    <tr>\n",
       "      <th>2</th>\n",
       "      <td>Afghanistan</td>\n",
       "      <td>AFG</td>\n",
       "      <td>2021-02-24</td>\n",
       "      <td>0</td>\n",
       "      <td>0</td>\n",
       "      <td>0</td>\n",
       "      <td>0</td>\n",
       "      <td>1367</td>\n",
       "      <td>0</td>\n",
       "      <td>0</td>\n",
       "      <td>0</td>\n",
       "      <td>35</td>\n",
       "      <td>Johnson&amp;Johnson, Oxford/AstraZeneca, Pfizer/Bi...</td>\n",
       "      <td>World Health Organization</td>\n",
       "      <td>https://covid19.who.int/</td>\n",
       "      <td>2021</td>\n",
       "      <td>2</td>\n",
       "      <td>24</td>\n",
       "    </tr>\n",
       "    <tr>\n",
       "      <th>3</th>\n",
       "      <td>Afghanistan</td>\n",
       "      <td>AFG</td>\n",
       "      <td>2021-02-25</td>\n",
       "      <td>0</td>\n",
       "      <td>0</td>\n",
       "      <td>0</td>\n",
       "      <td>0</td>\n",
       "      <td>1367</td>\n",
       "      <td>0</td>\n",
       "      <td>0</td>\n",
       "      <td>0</td>\n",
       "      <td>35</td>\n",
       "      <td>Johnson&amp;Johnson, Oxford/AstraZeneca, Pfizer/Bi...</td>\n",
       "      <td>World Health Organization</td>\n",
       "      <td>https://covid19.who.int/</td>\n",
       "      <td>2021</td>\n",
       "      <td>2</td>\n",
       "      <td>25</td>\n",
       "    </tr>\n",
       "    <tr>\n",
       "      <th>4</th>\n",
       "      <td>Afghanistan</td>\n",
       "      <td>AFG</td>\n",
       "      <td>2021-02-26</td>\n",
       "      <td>0</td>\n",
       "      <td>0</td>\n",
       "      <td>0</td>\n",
       "      <td>0</td>\n",
       "      <td>1367</td>\n",
       "      <td>0</td>\n",
       "      <td>0</td>\n",
       "      <td>0</td>\n",
       "      <td>35</td>\n",
       "      <td>Johnson&amp;Johnson, Oxford/AstraZeneca, Pfizer/Bi...</td>\n",
       "      <td>World Health Organization</td>\n",
       "      <td>https://covid19.who.int/</td>\n",
       "      <td>2021</td>\n",
       "      <td>2</td>\n",
       "      <td>26</td>\n",
       "    </tr>\n",
       "  </tbody>\n",
       "</table>\n",
       "</div>"
      ],
      "text/plain": [
       "       country iso_code       date  total_vaccinations  people_vaccinated  \\\n",
       "0  Afghanistan      AFG 2021-02-22                   0                  0   \n",
       "1  Afghanistan      AFG 2021-02-23                   0                  0   \n",
       "2  Afghanistan      AFG 2021-02-24                   0                  0   \n",
       "3  Afghanistan      AFG 2021-02-25                   0                  0   \n",
       "4  Afghanistan      AFG 2021-02-26                   0                  0   \n",
       "\n",
       "   people_fully_vaccinated  daily_vaccinations_raw  daily_vaccinations  \\\n",
       "0                        0                       0                   0   \n",
       "1                        0                       0                1367   \n",
       "2                        0                       0                1367   \n",
       "3                        0                       0                1367   \n",
       "4                        0                       0                1367   \n",
       "\n",
       "   total_vaccinations_per_hundred  people_vaccinated_per_hundred  \\\n",
       "0                               0                              0   \n",
       "1                               0                              0   \n",
       "2                               0                              0   \n",
       "3                               0                              0   \n",
       "4                               0                              0   \n",
       "\n",
       "   people_fully_vaccinated_per_hundred  daily_vaccinations_per_million  \\\n",
       "0                                    0                               0   \n",
       "1                                    0                              35   \n",
       "2                                    0                              35   \n",
       "3                                    0                              35   \n",
       "4                                    0                              35   \n",
       "\n",
       "                                            vaccines  \\\n",
       "0  Johnson&Johnson, Oxford/AstraZeneca, Pfizer/Bi...   \n",
       "1  Johnson&Johnson, Oxford/AstraZeneca, Pfizer/Bi...   \n",
       "2  Johnson&Johnson, Oxford/AstraZeneca, Pfizer/Bi...   \n",
       "3  Johnson&Johnson, Oxford/AstraZeneca, Pfizer/Bi...   \n",
       "4  Johnson&Johnson, Oxford/AstraZeneca, Pfizer/Bi...   \n",
       "\n",
       "                 source_name            source_website  year  month  day  \n",
       "0  World Health Organization  https://covid19.who.int/  2021      2   22  \n",
       "1  World Health Organization  https://covid19.who.int/  2021      2   23  \n",
       "2  World Health Organization  https://covid19.who.int/  2021      2   24  \n",
       "3  World Health Organization  https://covid19.who.int/  2021      2   25  \n",
       "4  World Health Organization  https://covid19.who.int/  2021      2   26  "
      ]
     },
     "execution_count": 7,
     "metadata": {},
     "output_type": "execute_result"
    }
   ],
   "source": [
    "df['year'] = date[0]\n",
    "df['month'] = date[1]\n",
    "df['day'] = date[2]\n",
    "df.year = pd.to_numeric(df.year)\n",
    "df.month = pd.to_numeric(df.month)\n",
    "df.day = pd.to_numeric(df.day)\n",
    "df.date = pd.to_datetime(df.date)\n",
    "df.head()"
   ]
  },
  {
   "cell_type": "code",
   "execution_count": 8,
   "metadata": {},
   "outputs": [
    {
     "name": "stdout",
     "output_type": "stream",
     "text": [
      "Data point starts from  2020-12-02 00:00:00 n\n",
      "Data point ends at  2021-08-21 00:00:00 n\n",
      "Total no of countries in the data set  222 n\n",
      "Total no of unique vaccines in the data set  66 n\n"
     ]
    }
   ],
   "source": [
    "print('Data point starts from ',df.date.min(),'n')\n",
    "print('Data point ends at ',df.date.max(),'n')\n",
    "print('Total no of countries in the data set ',len(df.country.unique()),'n')\n",
    "print('Total no of unique vaccines in the data set ',len(df.vaccines.unique()),'n')"
   ]
  },
  {
   "cell_type": "code",
   "execution_count": 9,
   "metadata": {},
   "outputs": [
    {
     "name": "stdout",
     "output_type": "stream",
     "text": [
      "<class 'pandas.core.frame.DataFrame'>\n",
      "RangeIndex: 39113 entries, 0 to 39112\n",
      "Data columns (total 18 columns):\n",
      " #   Column                               Non-Null Count  Dtype         \n",
      "---  ------                               --------------  -----         \n",
      " 0   country                              39113 non-null  object        \n",
      " 1   iso_code                             39113 non-null  object        \n",
      " 2   date                                 39113 non-null  datetime64[ns]\n",
      " 3   total_vaccinations                   39113 non-null  int32         \n",
      " 4   people_vaccinated                    39113 non-null  int32         \n",
      " 5   people_fully_vaccinated              39113 non-null  int32         \n",
      " 6   daily_vaccinations_raw               39113 non-null  int32         \n",
      " 7   daily_vaccinations                   39113 non-null  int32         \n",
      " 8   total_vaccinations_per_hundred       39113 non-null  int32         \n",
      " 9   people_vaccinated_per_hundred        39113 non-null  int32         \n",
      " 10  people_fully_vaccinated_per_hundred  39113 non-null  int32         \n",
      " 11  daily_vaccinations_per_million       39113 non-null  int32         \n",
      " 12  vaccines                             39113 non-null  object        \n",
      " 13  source_name                          39113 non-null  object        \n",
      " 14  source_website                       39113 non-null  object        \n",
      " 15  year                                 39113 non-null  int64         \n",
      " 16  month                                39113 non-null  int64         \n",
      " 17  day                                  39113 non-null  int64         \n",
      "dtypes: datetime64[ns](1), int32(9), int64(3), object(5)\n",
      "memory usage: 4.0+ MB\n"
     ]
    }
   ],
   "source": [
    "df.info()"
   ]
  },
  {
   "cell_type": "code",
   "execution_count": 10,
   "metadata": {},
   "outputs": [
    {
     "data": {
      "text/html": [
       "<div>\n",
       "<style scoped>\n",
       "    .dataframe tbody tr th:only-of-type {\n",
       "        vertical-align: middle;\n",
       "    }\n",
       "\n",
       "    .dataframe tbody tr th {\n",
       "        vertical-align: top;\n",
       "    }\n",
       "\n",
       "    .dataframe thead th {\n",
       "        text-align: right;\n",
       "    }\n",
       "</style>\n",
       "<table border=\"1\" class=\"dataframe\">\n",
       "  <thead>\n",
       "    <tr style=\"text-align: right;\">\n",
       "      <th></th>\n",
       "      <th>total_vaccinations</th>\n",
       "      <th>people_vaccinated</th>\n",
       "      <th>people_fully_vaccinated</th>\n",
       "      <th>daily_vaccinations_raw</th>\n",
       "      <th>daily_vaccinations</th>\n",
       "      <th>total_vaccinations_per_hundred</th>\n",
       "      <th>people_vaccinated_per_hundred</th>\n",
       "      <th>people_fully_vaccinated_per_hundred</th>\n",
       "      <th>daily_vaccinations_per_million</th>\n",
       "      <th>year</th>\n",
       "      <th>month</th>\n",
       "      <th>day</th>\n",
       "    </tr>\n",
       "  </thead>\n",
       "  <tbody>\n",
       "    <tr>\n",
       "      <th>count</th>\n",
       "      <td>3.911300e+04</td>\n",
       "      <td>3.911300e+04</td>\n",
       "      <td>3.911300e+04</td>\n",
       "      <td>3.911300e+04</td>\n",
       "      <td>3.911300e+04</td>\n",
       "      <td>39113.000000</td>\n",
       "      <td>39113.000000</td>\n",
       "      <td>39113.000000</td>\n",
       "      <td>39113.00000</td>\n",
       "      <td>39113.000000</td>\n",
       "      <td>39113.000000</td>\n",
       "      <td>39113.000000</td>\n",
       "    </tr>\n",
       "    <tr>\n",
       "      <th>mean</th>\n",
       "      <td>9.171139e+06</td>\n",
       "      <td>3.820329e+06</td>\n",
       "      <td>2.005222e+06</td>\n",
       "      <td>1.142447e+05</td>\n",
       "      <td>1.255814e+05</td>\n",
       "      <td>20.402347</td>\n",
       "      <td>12.077749</td>\n",
       "      <td>7.293509</td>\n",
       "      <td>3553.45343</td>\n",
       "      <td>2020.989185</td>\n",
       "      <td>5.016491</td>\n",
       "      <td>15.549255</td>\n",
       "    </tr>\n",
       "    <tr>\n",
       "      <th>std</th>\n",
       "      <td>7.120005e+07</td>\n",
       "      <td>1.936803e+07</td>\n",
       "      <td>1.085365e+07</td>\n",
       "      <td>9.030465e+05</td>\n",
       "      <td>8.811032e+05</td>\n",
       "      <td>35.619434</td>\n",
       "      <td>20.284271</td>\n",
       "      <td>15.271544</td>\n",
       "      <td>4597.07472</td>\n",
       "      <td>0.103432</td>\n",
       "      <td>2.093247</td>\n",
       "      <td>8.732282</td>\n",
       "    </tr>\n",
       "    <tr>\n",
       "      <th>min</th>\n",
       "      <td>0.000000e+00</td>\n",
       "      <td>0.000000e+00</td>\n",
       "      <td>0.000000e+00</td>\n",
       "      <td>0.000000e+00</td>\n",
       "      <td>0.000000e+00</td>\n",
       "      <td>0.000000</td>\n",
       "      <td>0.000000</td>\n",
       "      <td>0.000000</td>\n",
       "      <td>0.00000</td>\n",
       "      <td>2020.000000</td>\n",
       "      <td>1.000000</td>\n",
       "      <td>1.000000</td>\n",
       "    </tr>\n",
       "    <tr>\n",
       "      <th>25%</th>\n",
       "      <td>0.000000e+00</td>\n",
       "      <td>0.000000e+00</td>\n",
       "      <td>0.000000e+00</td>\n",
       "      <td>0.000000e+00</td>\n",
       "      <td>8.190000e+02</td>\n",
       "      <td>0.000000</td>\n",
       "      <td>0.000000</td>\n",
       "      <td>0.000000</td>\n",
       "      <td>462.00000</td>\n",
       "      <td>2021.000000</td>\n",
       "      <td>3.000000</td>\n",
       "      <td>8.000000</td>\n",
       "    </tr>\n",
       "    <tr>\n",
       "      <th>50%</th>\n",
       "      <td>2.882700e+04</td>\n",
       "      <td>1.000000e+04</td>\n",
       "      <td>0.000000e+00</td>\n",
       "      <td>0.000000e+00</td>\n",
       "      <td>6.696000e+03</td>\n",
       "      <td>0.000000</td>\n",
       "      <td>0.000000</td>\n",
       "      <td>0.000000</td>\n",
       "      <td>2078.00000</td>\n",
       "      <td>2021.000000</td>\n",
       "      <td>5.000000</td>\n",
       "      <td>15.000000</td>\n",
       "    </tr>\n",
       "    <tr>\n",
       "      <th>75%</th>\n",
       "      <td>1.604238e+06</td>\n",
       "      <td>9.738760e+05</td>\n",
       "      <td>3.539290e+05</td>\n",
       "      <td>1.783800e+04</td>\n",
       "      <td>3.883600e+04</td>\n",
       "      <td>25.000000</td>\n",
       "      <td>16.000000</td>\n",
       "      <td>6.000000</td>\n",
       "      <td>5318.00000</td>\n",
       "      <td>2021.000000</td>\n",
       "      <td>7.000000</td>\n",
       "      <td>23.000000</td>\n",
       "    </tr>\n",
       "    <tr>\n",
       "      <th>max</th>\n",
       "      <td>1.935869e+09</td>\n",
       "      <td>6.220000e+08</td>\n",
       "      <td>7.770460e+08</td>\n",
       "      <td>2.556700e+07</td>\n",
       "      <td>2.242429e+07</td>\n",
       "      <td>233.000000</td>\n",
       "      <td>116.000000</td>\n",
       "      <td>116.000000</td>\n",
       "      <td>118759.00000</td>\n",
       "      <td>2021.000000</td>\n",
       "      <td>12.000000</td>\n",
       "      <td>31.000000</td>\n",
       "    </tr>\n",
       "  </tbody>\n",
       "</table>\n",
       "</div>"
      ],
      "text/plain": [
       "       total_vaccinations  people_vaccinated  people_fully_vaccinated  \\\n",
       "count        3.911300e+04       3.911300e+04             3.911300e+04   \n",
       "mean         9.171139e+06       3.820329e+06             2.005222e+06   \n",
       "std          7.120005e+07       1.936803e+07             1.085365e+07   \n",
       "min          0.000000e+00       0.000000e+00             0.000000e+00   \n",
       "25%          0.000000e+00       0.000000e+00             0.000000e+00   \n",
       "50%          2.882700e+04       1.000000e+04             0.000000e+00   \n",
       "75%          1.604238e+06       9.738760e+05             3.539290e+05   \n",
       "max          1.935869e+09       6.220000e+08             7.770460e+08   \n",
       "\n",
       "       daily_vaccinations_raw  daily_vaccinations  \\\n",
       "count            3.911300e+04        3.911300e+04   \n",
       "mean             1.142447e+05        1.255814e+05   \n",
       "std              9.030465e+05        8.811032e+05   \n",
       "min              0.000000e+00        0.000000e+00   \n",
       "25%              0.000000e+00        8.190000e+02   \n",
       "50%              0.000000e+00        6.696000e+03   \n",
       "75%              1.783800e+04        3.883600e+04   \n",
       "max              2.556700e+07        2.242429e+07   \n",
       "\n",
       "       total_vaccinations_per_hundred  people_vaccinated_per_hundred  \\\n",
       "count                    39113.000000                   39113.000000   \n",
       "mean                        20.402347                      12.077749   \n",
       "std                         35.619434                      20.284271   \n",
       "min                          0.000000                       0.000000   \n",
       "25%                          0.000000                       0.000000   \n",
       "50%                          0.000000                       0.000000   \n",
       "75%                         25.000000                      16.000000   \n",
       "max                        233.000000                     116.000000   \n",
       "\n",
       "       people_fully_vaccinated_per_hundred  daily_vaccinations_per_million  \\\n",
       "count                         39113.000000                     39113.00000   \n",
       "mean                              7.293509                      3553.45343   \n",
       "std                              15.271544                      4597.07472   \n",
       "min                               0.000000                         0.00000   \n",
       "25%                               0.000000                       462.00000   \n",
       "50%                               0.000000                      2078.00000   \n",
       "75%                               6.000000                      5318.00000   \n",
       "max                             116.000000                    118759.00000   \n",
       "\n",
       "               year         month           day  \n",
       "count  39113.000000  39113.000000  39113.000000  \n",
       "mean    2020.989185      5.016491     15.549255  \n",
       "std        0.103432      2.093247      8.732282  \n",
       "min     2020.000000      1.000000      1.000000  \n",
       "25%     2021.000000      3.000000      8.000000  \n",
       "50%     2021.000000      5.000000     15.000000  \n",
       "75%     2021.000000      7.000000     23.000000  \n",
       "max     2021.000000     12.000000     31.000000  "
      ]
     },
     "execution_count": 10,
     "metadata": {},
     "output_type": "execute_result"
    }
   ],
   "source": [
    "#data visualization\n",
    "df.describe()"
   ]
  },
  {
   "cell_type": "code",
   "execution_count": 11,
   "metadata": {},
   "outputs": [
    {
     "data": {
      "text/plain": [
       "array(['Afghanistan', 'Albania', 'Algeria', 'Andorra', 'Angola',\n",
       "       'Anguilla', 'Antigua and Barbuda', 'Argentina', 'Armenia', 'Aruba',\n",
       "       'Australia', 'Austria', 'Azerbaijan', 'Bahamas', 'Bahrain',\n",
       "       'Bangladesh', 'Barbados', 'Belarus', 'Belgium', 'Belize', 'Benin',\n",
       "       'Bermuda', 'Bhutan', 'Bolivia', 'Bonaire Sint Eustatius and Saba',\n",
       "       'Bosnia and Herzegovina', 'Botswana', 'Brazil',\n",
       "       'British Virgin Islands', 'Brunei', 'Bulgaria', 'Burkina Faso',\n",
       "       'Cambodia', 'Cameroon', 'Canada', 'Cape Verde', 'Cayman Islands',\n",
       "       'Central African Republic', 'Chad', 'Chile', 'China', 'Colombia',\n",
       "       'Comoros', 'Congo', 'Cook Islands', 'Costa Rica', \"Cote d'Ivoire\",\n",
       "       'Croatia', 'Cuba', 'Curacao', 'Cyprus', 'Czechia',\n",
       "       'Democratic Republic of Congo', 'Denmark', 'Djibouti', 'Dominica',\n",
       "       'Dominican Republic', 'Ecuador', 'Egypt', 'El Salvador', 'England',\n",
       "       'Equatorial Guinea', 'Estonia', 'Eswatini', 'Ethiopia',\n",
       "       'Faeroe Islands', 'Falkland Islands', 'Fiji', 'Finland', 'France',\n",
       "       'French Polynesia', 'Gabon', 'Gambia', 'Georgia', 'Germany',\n",
       "       'Ghana', 'Gibraltar', 'Greece', 'Greenland', 'Grenada',\n",
       "       'Guatemala', 'Guernsey', 'Guinea', 'Guinea-Bissau', 'Guyana',\n",
       "       'Haiti', 'Honduras', 'Hong Kong', 'Hungary', 'Iceland', 'India',\n",
       "       'Indonesia', 'Iran', 'Iraq', 'Ireland', 'Isle of Man', 'Israel',\n",
       "       'Italy', 'Jamaica', 'Japan', 'Jersey', 'Jordan', 'Kazakhstan',\n",
       "       'Kenya', 'Kiribati', 'Kosovo', 'Kuwait', 'Kyrgyzstan', 'Laos',\n",
       "       'Latvia', 'Lebanon', 'Lesotho', 'Liberia', 'Libya',\n",
       "       'Liechtenstein', 'Lithuania', 'Luxembourg', 'Macao', 'Madagascar',\n",
       "       'Malawi', 'Malaysia', 'Maldives', 'Mali', 'Malta', 'Mauritania',\n",
       "       'Mauritius', 'Mexico', 'Moldova', 'Monaco', 'Mongolia',\n",
       "       'Montenegro', 'Montserrat', 'Morocco', 'Mozambique', 'Myanmar',\n",
       "       'Namibia', 'Nauru', 'Nepal', 'Netherlands', 'New Caledonia',\n",
       "       'New Zealand', 'Nicaragua', 'Niger', 'Nigeria', 'Niue',\n",
       "       'North Macedonia', 'Northern Cyprus', 'Northern Ireland', 'Norway',\n",
       "       'Oman', 'Pakistan', 'Palestine', 'Panama', 'Papua New Guinea',\n",
       "       'Paraguay', 'Peru', 'Philippines', 'Pitcairn', 'Poland',\n",
       "       'Portugal', 'Qatar', 'Romania', 'Russia', 'Rwanda', 'Saint Helena',\n",
       "       'Saint Kitts and Nevis', 'Saint Lucia',\n",
       "       'Saint Vincent and the Grenadines', 'Samoa', 'San Marino',\n",
       "       'Sao Tome and Principe', 'Saudi Arabia', 'Scotland', 'Senegal',\n",
       "       'Serbia', 'Seychelles', 'Sierra Leone', 'Singapore',\n",
       "       'Sint Maarten (Dutch part)', 'Slovakia', 'Slovenia',\n",
       "       'Solomon Islands', 'Somalia', 'South Africa', 'South Korea',\n",
       "       'South Sudan', 'Spain', 'Sri Lanka', 'Sudan', 'Suriname', 'Sweden',\n",
       "       'Switzerland', 'Syria', 'Taiwan', 'Tajikistan', 'Tanzania',\n",
       "       'Thailand', 'Timor', 'Togo', 'Tokelau', 'Tonga',\n",
       "       'Trinidad and Tobago', 'Tunisia', 'Turkey', 'Turkmenistan',\n",
       "       'Turks and Caicos Islands', 'Tuvalu', 'Uganda', 'Ukraine',\n",
       "       'United Arab Emirates', 'United Kingdom', 'United States',\n",
       "       'Uruguay', 'Uzbekistan', 'Vanuatu', 'Venezuela', 'Vietnam',\n",
       "       'Wales', 'Wallis and Futuna', 'Yemen', 'Zambia', 'Zimbabwe'],\n",
       "      dtype=object)"
      ]
     },
     "execution_count": 11,
     "metadata": {},
     "output_type": "execute_result"
    }
   ],
   "source": [
    "df.country.unique()"
   ]
  },
  {
   "cell_type": "code",
   "execution_count": 12,
   "metadata": {},
   "outputs": [],
   "source": [
    "def size(m,n):\n",
    "    fig = plt.gcf();\n",
    "    fig.set_size_inches(m,n);"
   ]
  },
  {
   "cell_type": "code",
   "execution_count": 13,
   "metadata": {},
   "outputs": [
    {
     "data": {
      "text/html": [
       "<div>\n",
       "<style scoped>\n",
       "    .dataframe tbody tr th:only-of-type {\n",
       "        vertical-align: middle;\n",
       "    }\n",
       "\n",
       "    .dataframe tbody tr th {\n",
       "        vertical-align: top;\n",
       "    }\n",
       "\n",
       "    .dataframe thead th {\n",
       "        text-align: right;\n",
       "    }\n",
       "</style>\n",
       "<table border=\"1\" class=\"dataframe\">\n",
       "  <thead>\n",
       "    <tr style=\"text-align: right;\">\n",
       "      <th></th>\n",
       "      <th>total_vaccinted_till_date</th>\n",
       "    </tr>\n",
       "  </thead>\n",
       "  <tbody>\n",
       "    <tr>\n",
       "      <th>China</th>\n",
       "      <td>1898830643</td>\n",
       "    </tr>\n",
       "    <tr>\n",
       "      <th>India</th>\n",
       "      <td>562265410</td>\n",
       "    </tr>\n",
       "    <tr>\n",
       "      <th>United States</th>\n",
       "      <td>358727323</td>\n",
       "    </tr>\n",
       "    <tr>\n",
       "      <th>Brazil</th>\n",
       "      <td>167579290</td>\n",
       "    </tr>\n",
       "    <tr>\n",
       "      <th>Japan</th>\n",
       "      <td>111835489</td>\n",
       "    </tr>\n",
       "    <tr>\n",
       "      <th>...</th>\n",
       "      <td>...</td>\n",
       "    </tr>\n",
       "    <tr>\n",
       "      <th>Tuvalu</th>\n",
       "      <td>1860</td>\n",
       "    </tr>\n",
       "    <tr>\n",
       "      <th>Tokelau</th>\n",
       "      <td>1045</td>\n",
       "    </tr>\n",
       "    <tr>\n",
       "      <th>Pitcairn</th>\n",
       "      <td>38</td>\n",
       "    </tr>\n",
       "    <tr>\n",
       "      <th>Bonaire Sint Eustatius and Saba</th>\n",
       "      <td>0</td>\n",
       "    </tr>\n",
       "    <tr>\n",
       "      <th>Turkmenistan</th>\n",
       "      <td>0</td>\n",
       "    </tr>\n",
       "  </tbody>\n",
       "</table>\n",
       "<p>222 rows × 1 columns</p>\n",
       "</div>"
      ],
      "text/plain": [
       "                                 total_vaccinted_till_date\n",
       "China                                           1898830643\n",
       "India                                            562265410\n",
       "United States                                    358727323\n",
       "Brazil                                           167579290\n",
       "Japan                                            111835489\n",
       "...                                                    ...\n",
       "Tuvalu                                                1860\n",
       "Tokelau                                               1045\n",
       "Pitcairn                                                38\n",
       "Bonaire Sint Eustatius and Saba                          0\n",
       "Turkmenistan                                             0\n",
       "\n",
       "[222 rows x 1 columns]"
      ]
     },
     "execution_count": 13,
     "metadata": {},
     "output_type": "execute_result"
    }
   ],
   "source": [
    "#total vaccinated till date\n",
    "country_wise_total_vaccinated = {}\n",
    "for country in df.country.unique() : \n",
    "    vaccinated = 0\n",
    "    for i in range(len(df)) : \n",
    "        if df.country[i] == country : \n",
    "            vaccinated += df.daily_vaccinations[i]\n",
    "    country_wise_total_vaccinated[country] = vaccinated \n",
    "#     made a seperate dict from the df \n",
    "    country_wise_total_vaccinated_df = pd.DataFrame.from_dict(country_wise_total_vaccinated,\n",
    "                                                         orient='index',\n",
    "                                                         columns = ['total_vaccinted_till_date'])\n",
    "#     converted dict to df \n",
    "country_wise_total_vaccinated_df.sort_values(by = 'total_vaccinted_till_date', ascending = False, inplace = True)\n",
    "country_wise_total_vaccinated_df\n"
   ]
  },
  {
   "cell_type": "code",
   "execution_count": 14,
   "metadata": {},
   "outputs": [
    {
     "ename": "NameError",
     "evalue": "name 'px' is not defined",
     "output_type": "error",
     "traceback": [
      "\u001b[1;31m---------------------------------------------------------------------------\u001b[0m",
      "\u001b[1;31mNameError\u001b[0m                                 Traceback (most recent call last)",
      "\u001b[1;32m<ipython-input-14-922f76dc7aee>\u001b[0m in \u001b[0;36m<module>\u001b[1;34m\u001b[0m\n\u001b[1;32m----> 1\u001b[1;33m fig = px.bar(country_wise_total_vaccinated_df, \n\u001b[0m\u001b[0;32m      2\u001b[0m              \u001b[0my\u001b[0m \u001b[1;33m=\u001b[0m \u001b[1;34m'total_vaccinted_till_date'\u001b[0m\u001b[1;33m,\u001b[0m\u001b[1;33m\u001b[0m\u001b[1;33m\u001b[0m\u001b[0m\n\u001b[0;32m      3\u001b[0m              \u001b[0mx\u001b[0m \u001b[1;33m=\u001b[0m \u001b[0mcountry_wise_total_vaccinated_df\u001b[0m\u001b[1;33m.\u001b[0m\u001b[0mindex\u001b[0m\u001b[1;33m,\u001b[0m\u001b[1;33m\u001b[0m\u001b[1;33m\u001b[0m\u001b[0m\n\u001b[0;32m      4\u001b[0m              \u001b[0mcolor\u001b[0m \u001b[1;33m=\u001b[0m \u001b[1;34m'total_vaccinted_till_date'\u001b[0m\u001b[1;33m,\u001b[0m\u001b[1;33m\u001b[0m\u001b[1;33m\u001b[0m\u001b[0m\n\u001b[0;32m      5\u001b[0m              \u001b[0mcolor_discrete_sequence\u001b[0m\u001b[1;33m=\u001b[0m \u001b[0mpx\u001b[0m\u001b[1;33m.\u001b[0m\u001b[0mcolors\u001b[0m\u001b[1;33m.\u001b[0m\u001b[0msequential\u001b[0m\u001b[1;33m.\u001b[0m\u001b[0mViridis_r\u001b[0m\u001b[1;33m\u001b[0m\u001b[1;33m\u001b[0m\u001b[0m\n",
      "\u001b[1;31mNameError\u001b[0m: name 'px' is not defined"
     ]
    }
   ],
   "source": []
  },
  {
   "cell_type": "code",
   "execution_count": 15,
   "metadata": {},
   "outputs": [
    {
     "name": "stdout",
     "output_type": "stream",
     "text": [
      "Collecting package metadata (current_repodata.json): ...working... done\n",
      "Solving environment: ...working... done\n",
      "\n",
      "## Package Plan ##\n",
      "\n",
      "  environment location: C:\\Users\\jayas\\anaconda3\n",
      "\n",
      "  added / updated specs:\n",
      "    - plotly\n",
      "\n",
      "\n",
      "The following packages will be downloaded:\n",
      "\n",
      "    package                    |            build\n",
      "    ---------------------------|-----------------\n",
      "    plotly-5.2.1               |             py_0         6.8 MB  plotly\n",
      "    tenacity-6.3.1             |   py38haa95532_0          83 KB\n",
      "    ------------------------------------------------------------\n",
      "                                           Total:         6.9 MB\n",
      "\n",
      "The following NEW packages will be INSTALLED:\n",
      "\n",
      "  plotly             plotly/noarch::plotly-5.2.1-py_0\n",
      "  tenacity           pkgs/main/win-64::tenacity-6.3.1-py38haa95532_0\n",
      "\n",
      "\n",
      "\n",
      "Downloading and Extracting Packages\n",
      "\n",
      "tenacity-6.3.1       | 83 KB     |            |   0% \n",
      "tenacity-6.3.1       | 83 KB     | #9         |  19% \n",
      "tenacity-6.3.1       | 83 KB     | ########## | 100% \n",
      "tenacity-6.3.1       | 83 KB     | ########## | 100% \n",
      "\n",
      "plotly-5.2.1         | 6.8 MB    |            |   0% \n",
      "plotly-5.2.1         | 6.8 MB    | ########## | 100% \n",
      "plotly-5.2.1         | 6.8 MB    | ########## | 100% \n",
      "Preparing transaction: ...working... done\n",
      "Verifying transaction: ...working... done\n",
      "Executing transaction: ...working... done\n",
      "\n",
      "Note: you may need to restart the kernel to use updated packages.\n"
     ]
    }
   ],
   "source": [
    "conda install -c plotly plotly"
   ]
  },
  {
   "cell_type": "code",
   "execution_count": 19,
   "metadata": {},
   "outputs": [
    {
     "data": {
      "application/vnd.plotly.v1+json": {
       "config": {
        "plotlyServerURL": "https://plot.ly"
       },
       "data": [
        {
         "alignmentgroup": "True",
         "hovertemplate": "index=%{x}<br>total_vaccinted_till_date=%{marker.color}<extra></extra>",
         "legendgroup": "",
         "marker": {
          "color": [
           1898830643,
           562265410,
           358727323,
           167579290,
           111835489,
           98468617,
           88603886,
           86807543,
           85057419,
           81513286,
           78557526,
           74592944,
           74558191,
           74048450,
           61981261,
           51933955,
           44637073,
           37472221,
           35591549,
           33860562,
           32802704,
           32324692,
           29357069,
           29259089,
           27842979,
           27442514,
           24272852,
           21714562,
           21678778,
           18323033,
           16939021,
           16776780,
           16413999,
           16284012,
           15935102,
           15678203,
           15527709,
           15128945,
           13798200,
           12555477,
           11560060,
           11100754,
           11074976,
           11013689,
           10756970,
           10721735,
           10542943,
           10541019,
           10235750,
           9934763,
           9803501,
           9619010,
           9294298,
           8636548,
           8491855,
           8198500,
           7830100,
           7572773,
           6823763,
           6457588,
           6319651,
           6114708,
           6083811,
           5943227,
           5942310,
           5640673,
           5356610,
           5191750,
           5165809,
           4630323,
           4621710,
           4463739,
           4446810,
           4260287,
           4179958,
           4084368,
           3966173,
           3761115,
           3555645,
           3549628,
           3530418,
           3448936,
           3380873,
           3180792,
           3001392,
           2993497,
           2828068,
           2601744,
           2476213,
           2415478,
           2385321,
           2341617,
           2242759,
           2190778,
           2125882,
           2016324,
           1977280,
           1961544,
           1824809,
           1737675,
           1735620,
           1722360,
           1639124,
           1465231,
           1438196,
           1355468,
           1315640,
           1283716,
           1281963,
           1267476,
           1240452,
           1220182,
           1183000,
           1162322,
           1071842,
           1054977,
           991490,
           933531,
           908446,
           902904,
           861088,
           837029,
           828876,
           801659,
           779357,
           764667,
           746249,
           722633,
           644951,
           589274,
           560910,
           557639,
           534082,
           533224,
           472846,
           468044,
           460228,
           427722,
           415209,
           401262,
           397763,
           365975,
           333571,
           319920,
           304026,
           302943,
           299269,
           287940,
           255583,
           254417,
           246280,
           245069,
           234464,
           232174,
           213549,
           209608,
           209095,
           202670,
           196768,
           190139,
           181663,
           162982,
           159387,
           152601,
           144702,
           135876,
           125175,
           122580,
           120701,
           117466,
           112880,
           110371,
           102861,
           101223,
           100384,
           97762,
           92546,
           90135,
           87454,
           84544,
           81125,
           77428,
           73464,
           71817,
           71407,
           66663,
           65571,
           61059,
           60818,
           60007,
           56739,
           49806,
           46543,
           45682,
           45030,
           44223,
           43405,
           42486,
           41566,
           41290,
           38954,
           38876,
           30367,
           25277,
           22766,
           22493,
           18770,
           17984,
           17611,
           14987,
           14523,
           13938,
           9020,
           7718,
           4933,
           2932,
           2561,
           1860,
           1045,
           38,
           0,
           0
          ],
          "coloraxis": "coloraxis",
          "pattern": {
           "shape": ""
          }
         },
         "name": "",
         "offsetgroup": "",
         "orientation": "v",
         "showlegend": false,
         "textposition": "auto",
         "type": "bar",
         "x": [
          "China",
          "India",
          "United States",
          "Brazil",
          "Japan",
          "Germany",
          "United Kingdom",
          "Turkey",
          "Indonesia",
          "France",
          "Mexico",
          "Russia",
          "Italy",
          "England",
          "Spain",
          "Canada",
          "Pakistan",
          "Argentina",
          "Poland",
          "South Korea",
          "Saudi Arabia",
          "Colombia",
          "Malaysia",
          "Morocco",
          "Philippines",
          "Chile",
          "Thailand",
          "Bangladesh",
          "Netherlands",
          "Iran",
          "Sri Lanka",
          "United Arab Emirates",
          "Peru",
          "Cambodia",
          "Australia",
          "Belgium",
          "Ecuador",
          "Vietnam",
          "Portugal",
          "Israel",
          "Sweden",
          "Czechia",
          "Greece",
          "Kazakhstan",
          "Uzbekistan",
          "Dominican Republic",
          "Cuba",
          "Hungary",
          "Austria",
          "Taiwan",
          "South Africa",
          "Romania",
          "Switzerland",
          "Singapore",
          "Nepal",
          "Denmark",
          "Ukraine",
          "Scotland",
          "Hong Kong",
          "Ireland",
          "Finland",
          "Egypt",
          "Norway",
          "Azerbaijan",
          "Jordan",
          "Serbia",
          "El Salvador",
          "Uruguay",
          "Bolivia",
          "Tunisia",
          "Venezuela",
          "Wales",
          "Slovakia",
          "Mongolia",
          "Qatar",
          "Algeria",
          "Nigeria",
          "Costa Rica",
          "Panama",
          "Myanmar",
          "Zimbabwe",
          "Guatemala",
          "Paraguay",
          "Croatia",
          "Honduras",
          "Lithuania",
          "Oman",
          "Belarus",
          "New Zealand",
          "Bahrain",
          "Northern Ireland",
          "Kuwait",
          "Lebanon",
          "Bulgaria",
          "Kenya",
          "Iraq",
          "Ethiopia",
          "Laos",
          "Slovenia",
          "Angola",
          "Tajikistan",
          "Afghanistan",
          "Mozambique",
          "Senegal",
          "Latvia",
          "Ghana",
          "Albania",
          "Bhutan",
          "Rwanda",
          "Mauritius",
          "Cote d'Ivoire",
          "Estonia",
          "Moldova",
          "Uganda",
          "North Macedonia",
          "Cyprus",
          "Palestine",
          "Kyrgyzstan",
          "Guinea",
          "Bosnia and Herzegovina",
          "Libya",
          "Georgia",
          "Sudan",
          "Trinidad and Tobago",
          "Malta",
          "Malawi",
          "Luxembourg",
          "Fiji",
          "Maldives",
          "Nicaragua",
          "Kosovo",
          "Macao",
          "Zambia",
          "Togo",
          "Timor",
          "Iceland",
          "Niger",
          "Guyana",
          "Jamaica",
          "Cameroon",
          "Botswana",
          "Montenegro",
          "Syria",
          "Equatorial Guinea",
          "Gambia",
          "Yemen",
          "Northern Cyprus",
          "Suriname",
          "Namibia",
          "Congo",
          "Mauritania",
          "Cape Verde",
          "Mali",
          "Brunei",
          "Comoros",
          "Armenia",
          "Belize",
          "Sierra Leone",
          "Madagascar",
          "Barbados",
          "French Polynesia",
          "Curacao",
          "Somalia",
          "Eswatini",
          "Seychelles",
          "New Caledonia",
          "Gabon",
          "Isle of Man",
          "Aruba",
          "Bahamas",
          "Tanzania",
          "Papua New Guinea",
          "Jersey",
          "Samoa",
          "Cayman Islands",
          "Central African Republic",
          "Guernsey",
          "Andorra",
          "Democratic Republic of Congo",
          "Bermuda",
          "Gibraltar",
          "Liberia",
          "Antigua and Barbuda",
          "Lesotho",
          "Benin",
          "Greenland",
          "Faeroe Islands",
          "Saint Lucia",
          "Solomon Islands",
          "Burkina Faso",
          "South Sudan",
          "Turks and Caicos Islands",
          "San Marino",
          "Sao Tome and Principe",
          "Saint Kitts and Nevis",
          "Djibouti",
          "Monaco",
          "Tonga",
          "Dominica",
          "Liechtenstein",
          "Grenada",
          "Chad",
          "Vanuatu",
          "Guinea-Bissau",
          "Sint Maarten (Dutch part)",
          "Haiti",
          "Anguilla",
          "Saint Vincent and the Grenadines",
          "Cook Islands",
          "Nauru",
          "British Virgin Islands",
          "Kiribati",
          "Wallis and Futuna",
          "Saint Helena",
          "Falkland Islands",
          "Montserrat",
          "Niue",
          "Tuvalu",
          "Tokelau",
          "Pitcairn",
          "Bonaire Sint Eustatius and Saba",
          "Turkmenistan"
         ],
         "xaxis": "x",
         "y": [
          1898830643,
          562265410,
          358727323,
          167579290,
          111835489,
          98468617,
          88603886,
          86807543,
          85057419,
          81513286,
          78557526,
          74592944,
          74558191,
          74048450,
          61981261,
          51933955,
          44637073,
          37472221,
          35591549,
          33860562,
          32802704,
          32324692,
          29357069,
          29259089,
          27842979,
          27442514,
          24272852,
          21714562,
          21678778,
          18323033,
          16939021,
          16776780,
          16413999,
          16284012,
          15935102,
          15678203,
          15527709,
          15128945,
          13798200,
          12555477,
          11560060,
          11100754,
          11074976,
          11013689,
          10756970,
          10721735,
          10542943,
          10541019,
          10235750,
          9934763,
          9803501,
          9619010,
          9294298,
          8636548,
          8491855,
          8198500,
          7830100,
          7572773,
          6823763,
          6457588,
          6319651,
          6114708,
          6083811,
          5943227,
          5942310,
          5640673,
          5356610,
          5191750,
          5165809,
          4630323,
          4621710,
          4463739,
          4446810,
          4260287,
          4179958,
          4084368,
          3966173,
          3761115,
          3555645,
          3549628,
          3530418,
          3448936,
          3380873,
          3180792,
          3001392,
          2993497,
          2828068,
          2601744,
          2476213,
          2415478,
          2385321,
          2341617,
          2242759,
          2190778,
          2125882,
          2016324,
          1977280,
          1961544,
          1824809,
          1737675,
          1735620,
          1722360,
          1639124,
          1465231,
          1438196,
          1355468,
          1315640,
          1283716,
          1281963,
          1267476,
          1240452,
          1220182,
          1183000,
          1162322,
          1071842,
          1054977,
          991490,
          933531,
          908446,
          902904,
          861088,
          837029,
          828876,
          801659,
          779357,
          764667,
          746249,
          722633,
          644951,
          589274,
          560910,
          557639,
          534082,
          533224,
          472846,
          468044,
          460228,
          427722,
          415209,
          401262,
          397763,
          365975,
          333571,
          319920,
          304026,
          302943,
          299269,
          287940,
          255583,
          254417,
          246280,
          245069,
          234464,
          232174,
          213549,
          209608,
          209095,
          202670,
          196768,
          190139,
          181663,
          162982,
          159387,
          152601,
          144702,
          135876,
          125175,
          122580,
          120701,
          117466,
          112880,
          110371,
          102861,
          101223,
          100384,
          97762,
          92546,
          90135,
          87454,
          84544,
          81125,
          77428,
          73464,
          71817,
          71407,
          66663,
          65571,
          61059,
          60818,
          60007,
          56739,
          49806,
          46543,
          45682,
          45030,
          44223,
          43405,
          42486,
          41566,
          41290,
          38954,
          38876,
          30367,
          25277,
          22766,
          22493,
          18770,
          17984,
          17611,
          14987,
          14523,
          13938,
          9020,
          7718,
          4933,
          2932,
          2561,
          1860,
          1045,
          38,
          0,
          0
         ],
         "yaxis": "y"
        }
       ],
       "layout": {
        "barmode": "relative",
        "coloraxis": {
         "colorbar": {
          "title": {
           "text": "total_vaccinted_till_date"
          }
         },
         "colorscale": [
          [
           0,
           "#0d0887"
          ],
          [
           0.1111111111111111,
           "#46039f"
          ],
          [
           0.2222222222222222,
           "#7201a8"
          ],
          [
           0.3333333333333333,
           "#9c179e"
          ],
          [
           0.4444444444444444,
           "#bd3786"
          ],
          [
           0.5555555555555556,
           "#d8576b"
          ],
          [
           0.6666666666666666,
           "#ed7953"
          ],
          [
           0.7777777777777778,
           "#fb9f3a"
          ],
          [
           0.8888888888888888,
           "#fdca26"
          ],
          [
           1,
           "#f0f921"
          ]
         ]
        },
        "legend": {
         "title": {
          "text": "Total vaccinated"
         },
         "tracegroupgap": 0
        },
        "margin": {
         "t": 60
        },
        "template": {
         "data": {
          "bar": [
           {
            "error_x": {
             "color": "#2a3f5f"
            },
            "error_y": {
             "color": "#2a3f5f"
            },
            "marker": {
             "line": {
              "color": "#E5ECF6",
              "width": 0.5
             },
             "pattern": {
              "fillmode": "overlay",
              "size": 10,
              "solidity": 0.2
             }
            },
            "type": "bar"
           }
          ],
          "barpolar": [
           {
            "marker": {
             "line": {
              "color": "#E5ECF6",
              "width": 0.5
             },
             "pattern": {
              "fillmode": "overlay",
              "size": 10,
              "solidity": 0.2
             }
            },
            "type": "barpolar"
           }
          ],
          "carpet": [
           {
            "aaxis": {
             "endlinecolor": "#2a3f5f",
             "gridcolor": "white",
             "linecolor": "white",
             "minorgridcolor": "white",
             "startlinecolor": "#2a3f5f"
            },
            "baxis": {
             "endlinecolor": "#2a3f5f",
             "gridcolor": "white",
             "linecolor": "white",
             "minorgridcolor": "white",
             "startlinecolor": "#2a3f5f"
            },
            "type": "carpet"
           }
          ],
          "choropleth": [
           {
            "colorbar": {
             "outlinewidth": 0,
             "ticks": ""
            },
            "type": "choropleth"
           }
          ],
          "contour": [
           {
            "colorbar": {
             "outlinewidth": 0,
             "ticks": ""
            },
            "colorscale": [
             [
              0,
              "#0d0887"
             ],
             [
              0.1111111111111111,
              "#46039f"
             ],
             [
              0.2222222222222222,
              "#7201a8"
             ],
             [
              0.3333333333333333,
              "#9c179e"
             ],
             [
              0.4444444444444444,
              "#bd3786"
             ],
             [
              0.5555555555555556,
              "#d8576b"
             ],
             [
              0.6666666666666666,
              "#ed7953"
             ],
             [
              0.7777777777777778,
              "#fb9f3a"
             ],
             [
              0.8888888888888888,
              "#fdca26"
             ],
             [
              1,
              "#f0f921"
             ]
            ],
            "type": "contour"
           }
          ],
          "contourcarpet": [
           {
            "colorbar": {
             "outlinewidth": 0,
             "ticks": ""
            },
            "type": "contourcarpet"
           }
          ],
          "heatmap": [
           {
            "colorbar": {
             "outlinewidth": 0,
             "ticks": ""
            },
            "colorscale": [
             [
              0,
              "#0d0887"
             ],
             [
              0.1111111111111111,
              "#46039f"
             ],
             [
              0.2222222222222222,
              "#7201a8"
             ],
             [
              0.3333333333333333,
              "#9c179e"
             ],
             [
              0.4444444444444444,
              "#bd3786"
             ],
             [
              0.5555555555555556,
              "#d8576b"
             ],
             [
              0.6666666666666666,
              "#ed7953"
             ],
             [
              0.7777777777777778,
              "#fb9f3a"
             ],
             [
              0.8888888888888888,
              "#fdca26"
             ],
             [
              1,
              "#f0f921"
             ]
            ],
            "type": "heatmap"
           }
          ],
          "heatmapgl": [
           {
            "colorbar": {
             "outlinewidth": 0,
             "ticks": ""
            },
            "colorscale": [
             [
              0,
              "#0d0887"
             ],
             [
              0.1111111111111111,
              "#46039f"
             ],
             [
              0.2222222222222222,
              "#7201a8"
             ],
             [
              0.3333333333333333,
              "#9c179e"
             ],
             [
              0.4444444444444444,
              "#bd3786"
             ],
             [
              0.5555555555555556,
              "#d8576b"
             ],
             [
              0.6666666666666666,
              "#ed7953"
             ],
             [
              0.7777777777777778,
              "#fb9f3a"
             ],
             [
              0.8888888888888888,
              "#fdca26"
             ],
             [
              1,
              "#f0f921"
             ]
            ],
            "type": "heatmapgl"
           }
          ],
          "histogram": [
           {
            "marker": {
             "pattern": {
              "fillmode": "overlay",
              "size": 10,
              "solidity": 0.2
             }
            },
            "type": "histogram"
           }
          ],
          "histogram2d": [
           {
            "colorbar": {
             "outlinewidth": 0,
             "ticks": ""
            },
            "colorscale": [
             [
              0,
              "#0d0887"
             ],
             [
              0.1111111111111111,
              "#46039f"
             ],
             [
              0.2222222222222222,
              "#7201a8"
             ],
             [
              0.3333333333333333,
              "#9c179e"
             ],
             [
              0.4444444444444444,
              "#bd3786"
             ],
             [
              0.5555555555555556,
              "#d8576b"
             ],
             [
              0.6666666666666666,
              "#ed7953"
             ],
             [
              0.7777777777777778,
              "#fb9f3a"
             ],
             [
              0.8888888888888888,
              "#fdca26"
             ],
             [
              1,
              "#f0f921"
             ]
            ],
            "type": "histogram2d"
           }
          ],
          "histogram2dcontour": [
           {
            "colorbar": {
             "outlinewidth": 0,
             "ticks": ""
            },
            "colorscale": [
             [
              0,
              "#0d0887"
             ],
             [
              0.1111111111111111,
              "#46039f"
             ],
             [
              0.2222222222222222,
              "#7201a8"
             ],
             [
              0.3333333333333333,
              "#9c179e"
             ],
             [
              0.4444444444444444,
              "#bd3786"
             ],
             [
              0.5555555555555556,
              "#d8576b"
             ],
             [
              0.6666666666666666,
              "#ed7953"
             ],
             [
              0.7777777777777778,
              "#fb9f3a"
             ],
             [
              0.8888888888888888,
              "#fdca26"
             ],
             [
              1,
              "#f0f921"
             ]
            ],
            "type": "histogram2dcontour"
           }
          ],
          "mesh3d": [
           {
            "colorbar": {
             "outlinewidth": 0,
             "ticks": ""
            },
            "type": "mesh3d"
           }
          ],
          "parcoords": [
           {
            "line": {
             "colorbar": {
              "outlinewidth": 0,
              "ticks": ""
             }
            },
            "type": "parcoords"
           }
          ],
          "pie": [
           {
            "automargin": true,
            "type": "pie"
           }
          ],
          "scatter": [
           {
            "marker": {
             "colorbar": {
              "outlinewidth": 0,
              "ticks": ""
             }
            },
            "type": "scatter"
           }
          ],
          "scatter3d": [
           {
            "line": {
             "colorbar": {
              "outlinewidth": 0,
              "ticks": ""
             }
            },
            "marker": {
             "colorbar": {
              "outlinewidth": 0,
              "ticks": ""
             }
            },
            "type": "scatter3d"
           }
          ],
          "scattercarpet": [
           {
            "marker": {
             "colorbar": {
              "outlinewidth": 0,
              "ticks": ""
             }
            },
            "type": "scattercarpet"
           }
          ],
          "scattergeo": [
           {
            "marker": {
             "colorbar": {
              "outlinewidth": 0,
              "ticks": ""
             }
            },
            "type": "scattergeo"
           }
          ],
          "scattergl": [
           {
            "marker": {
             "colorbar": {
              "outlinewidth": 0,
              "ticks": ""
             }
            },
            "type": "scattergl"
           }
          ],
          "scattermapbox": [
           {
            "marker": {
             "colorbar": {
              "outlinewidth": 0,
              "ticks": ""
             }
            },
            "type": "scattermapbox"
           }
          ],
          "scatterpolar": [
           {
            "marker": {
             "colorbar": {
              "outlinewidth": 0,
              "ticks": ""
             }
            },
            "type": "scatterpolar"
           }
          ],
          "scatterpolargl": [
           {
            "marker": {
             "colorbar": {
              "outlinewidth": 0,
              "ticks": ""
             }
            },
            "type": "scatterpolargl"
           }
          ],
          "scatterternary": [
           {
            "marker": {
             "colorbar": {
              "outlinewidth": 0,
              "ticks": ""
             }
            },
            "type": "scatterternary"
           }
          ],
          "surface": [
           {
            "colorbar": {
             "outlinewidth": 0,
             "ticks": ""
            },
            "colorscale": [
             [
              0,
              "#0d0887"
             ],
             [
              0.1111111111111111,
              "#46039f"
             ],
             [
              0.2222222222222222,
              "#7201a8"
             ],
             [
              0.3333333333333333,
              "#9c179e"
             ],
             [
              0.4444444444444444,
              "#bd3786"
             ],
             [
              0.5555555555555556,
              "#d8576b"
             ],
             [
              0.6666666666666666,
              "#ed7953"
             ],
             [
              0.7777777777777778,
              "#fb9f3a"
             ],
             [
              0.8888888888888888,
              "#fdca26"
             ],
             [
              1,
              "#f0f921"
             ]
            ],
            "type": "surface"
           }
          ],
          "table": [
           {
            "cells": {
             "fill": {
              "color": "#EBF0F8"
             },
             "line": {
              "color": "white"
             }
            },
            "header": {
             "fill": {
              "color": "#C8D4E3"
             },
             "line": {
              "color": "white"
             }
            },
            "type": "table"
           }
          ]
         },
         "layout": {
          "annotationdefaults": {
           "arrowcolor": "#2a3f5f",
           "arrowhead": 0,
           "arrowwidth": 1
          },
          "autotypenumbers": "strict",
          "coloraxis": {
           "colorbar": {
            "outlinewidth": 0,
            "ticks": ""
           }
          },
          "colorscale": {
           "diverging": [
            [
             0,
             "#8e0152"
            ],
            [
             0.1,
             "#c51b7d"
            ],
            [
             0.2,
             "#de77ae"
            ],
            [
             0.3,
             "#f1b6da"
            ],
            [
             0.4,
             "#fde0ef"
            ],
            [
             0.5,
             "#f7f7f7"
            ],
            [
             0.6,
             "#e6f5d0"
            ],
            [
             0.7,
             "#b8e186"
            ],
            [
             0.8,
             "#7fbc41"
            ],
            [
             0.9,
             "#4d9221"
            ],
            [
             1,
             "#276419"
            ]
           ],
           "sequential": [
            [
             0,
             "#0d0887"
            ],
            [
             0.1111111111111111,
             "#46039f"
            ],
            [
             0.2222222222222222,
             "#7201a8"
            ],
            [
             0.3333333333333333,
             "#9c179e"
            ],
            [
             0.4444444444444444,
             "#bd3786"
            ],
            [
             0.5555555555555556,
             "#d8576b"
            ],
            [
             0.6666666666666666,
             "#ed7953"
            ],
            [
             0.7777777777777778,
             "#fb9f3a"
            ],
            [
             0.8888888888888888,
             "#fdca26"
            ],
            [
             1,
             "#f0f921"
            ]
           ],
           "sequentialminus": [
            [
             0,
             "#0d0887"
            ],
            [
             0.1111111111111111,
             "#46039f"
            ],
            [
             0.2222222222222222,
             "#7201a8"
            ],
            [
             0.3333333333333333,
             "#9c179e"
            ],
            [
             0.4444444444444444,
             "#bd3786"
            ],
            [
             0.5555555555555556,
             "#d8576b"
            ],
            [
             0.6666666666666666,
             "#ed7953"
            ],
            [
             0.7777777777777778,
             "#fb9f3a"
            ],
            [
             0.8888888888888888,
             "#fdca26"
            ],
            [
             1,
             "#f0f921"
            ]
           ]
          },
          "colorway": [
           "#636efa",
           "#EF553B",
           "#00cc96",
           "#ab63fa",
           "#FFA15A",
           "#19d3f3",
           "#FF6692",
           "#B6E880",
           "#FF97FF",
           "#FECB52"
          ],
          "font": {
           "color": "#2a3f5f"
          },
          "geo": {
           "bgcolor": "white",
           "lakecolor": "white",
           "landcolor": "#E5ECF6",
           "showlakes": true,
           "showland": true,
           "subunitcolor": "white"
          },
          "hoverlabel": {
           "align": "left"
          },
          "hovermode": "closest",
          "mapbox": {
           "style": "light"
          },
          "paper_bgcolor": "white",
          "plot_bgcolor": "#E5ECF6",
          "polar": {
           "angularaxis": {
            "gridcolor": "white",
            "linecolor": "white",
            "ticks": ""
           },
           "bgcolor": "#E5ECF6",
           "radialaxis": {
            "gridcolor": "white",
            "linecolor": "white",
            "ticks": ""
           }
          },
          "scene": {
           "xaxis": {
            "backgroundcolor": "#E5ECF6",
            "gridcolor": "white",
            "gridwidth": 2,
            "linecolor": "white",
            "showbackground": true,
            "ticks": "",
            "zerolinecolor": "white"
           },
           "yaxis": {
            "backgroundcolor": "#E5ECF6",
            "gridcolor": "white",
            "gridwidth": 2,
            "linecolor": "white",
            "showbackground": true,
            "ticks": "",
            "zerolinecolor": "white"
           },
           "zaxis": {
            "backgroundcolor": "#E5ECF6",
            "gridcolor": "white",
            "gridwidth": 2,
            "linecolor": "white",
            "showbackground": true,
            "ticks": "",
            "zerolinecolor": "white"
           }
          },
          "shapedefaults": {
           "line": {
            "color": "#2a3f5f"
           }
          },
          "ternary": {
           "aaxis": {
            "gridcolor": "white",
            "linecolor": "white",
            "ticks": ""
           },
           "baxis": {
            "gridcolor": "white",
            "linecolor": "white",
            "ticks": ""
           },
           "bgcolor": "#E5ECF6",
           "caxis": {
            "gridcolor": "white",
            "linecolor": "white",
            "ticks": ""
           }
          },
          "title": {
           "x": 0.05
          },
          "xaxis": {
           "automargin": true,
           "gridcolor": "white",
           "linecolor": "white",
           "ticks": "",
           "title": {
            "standoff": 15
           },
           "zerolinecolor": "white",
           "zerolinewidth": 2
          },
          "yaxis": {
           "automargin": true,
           "gridcolor": "white",
           "linecolor": "white",
           "ticks": "",
           "title": {
            "standoff": 15
           },
           "zerolinecolor": "white",
           "zerolinewidth": 2
          }
         }
        },
        "title": {
         "text": "Vaccination till date in various countries",
         "x": 0.5,
         "y": 0.95
        },
        "xaxis": {
         "anchor": "y",
         "domain": [
          0,
          1
         ],
         "title": {
          "text": "Countries"
         }
        },
        "yaxis": {
         "anchor": "x",
         "domain": [
          0,
          1
         ],
         "title": {
          "text": "Total vaccinated"
         }
        }
       }
      },
      "text/html": [
       "<div>                            <div id=\"413a71bc-4cd5-438d-9e89-ae0e47243d74\" class=\"plotly-graph-div\" style=\"height:525px; width:100%;\"></div>            <script type=\"text/javascript\">                require([\"plotly\"], function(Plotly) {                    window.PLOTLYENV=window.PLOTLYENV || {};                                    if (document.getElementById(\"413a71bc-4cd5-438d-9e89-ae0e47243d74\")) {                    Plotly.newPlot(                        \"413a71bc-4cd5-438d-9e89-ae0e47243d74\",                        [{\"alignmentgroup\":\"True\",\"hovertemplate\":\"index=%{x}<br>total_vaccinted_till_date=%{marker.color}<extra></extra>\",\"legendgroup\":\"\",\"marker\":{\"color\":[1898830643,562265410,358727323,167579290,111835489,98468617,88603886,86807543,85057419,81513286,78557526,74592944,74558191,74048450,61981261,51933955,44637073,37472221,35591549,33860562,32802704,32324692,29357069,29259089,27842979,27442514,24272852,21714562,21678778,18323033,16939021,16776780,16413999,16284012,15935102,15678203,15527709,15128945,13798200,12555477,11560060,11100754,11074976,11013689,10756970,10721735,10542943,10541019,10235750,9934763,9803501,9619010,9294298,8636548,8491855,8198500,7830100,7572773,6823763,6457588,6319651,6114708,6083811,5943227,5942310,5640673,5356610,5191750,5165809,4630323,4621710,4463739,4446810,4260287,4179958,4084368,3966173,3761115,3555645,3549628,3530418,3448936,3380873,3180792,3001392,2993497,2828068,2601744,2476213,2415478,2385321,2341617,2242759,2190778,2125882,2016324,1977280,1961544,1824809,1737675,1735620,1722360,1639124,1465231,1438196,1355468,1315640,1283716,1281963,1267476,1240452,1220182,1183000,1162322,1071842,1054977,991490,933531,908446,902904,861088,837029,828876,801659,779357,764667,746249,722633,644951,589274,560910,557639,534082,533224,472846,468044,460228,427722,415209,401262,397763,365975,333571,319920,304026,302943,299269,287940,255583,254417,246280,245069,234464,232174,213549,209608,209095,202670,196768,190139,181663,162982,159387,152601,144702,135876,125175,122580,120701,117466,112880,110371,102861,101223,100384,97762,92546,90135,87454,84544,81125,77428,73464,71817,71407,66663,65571,61059,60818,60007,56739,49806,46543,45682,45030,44223,43405,42486,41566,41290,38954,38876,30367,25277,22766,22493,18770,17984,17611,14987,14523,13938,9020,7718,4933,2932,2561,1860,1045,38,0,0],\"coloraxis\":\"coloraxis\",\"pattern\":{\"shape\":\"\"}},\"name\":\"\",\"offsetgroup\":\"\",\"orientation\":\"v\",\"showlegend\":false,\"textposition\":\"auto\",\"type\":\"bar\",\"x\":[\"China\",\"India\",\"United States\",\"Brazil\",\"Japan\",\"Germany\",\"United Kingdom\",\"Turkey\",\"Indonesia\",\"France\",\"Mexico\",\"Russia\",\"Italy\",\"England\",\"Spain\",\"Canada\",\"Pakistan\",\"Argentina\",\"Poland\",\"South Korea\",\"Saudi Arabia\",\"Colombia\",\"Malaysia\",\"Morocco\",\"Philippines\",\"Chile\",\"Thailand\",\"Bangladesh\",\"Netherlands\",\"Iran\",\"Sri Lanka\",\"United Arab Emirates\",\"Peru\",\"Cambodia\",\"Australia\",\"Belgium\",\"Ecuador\",\"Vietnam\",\"Portugal\",\"Israel\",\"Sweden\",\"Czechia\",\"Greece\",\"Kazakhstan\",\"Uzbekistan\",\"Dominican Republic\",\"Cuba\",\"Hungary\",\"Austria\",\"Taiwan\",\"South Africa\",\"Romania\",\"Switzerland\",\"Singapore\",\"Nepal\",\"Denmark\",\"Ukraine\",\"Scotland\",\"Hong Kong\",\"Ireland\",\"Finland\",\"Egypt\",\"Norway\",\"Azerbaijan\",\"Jordan\",\"Serbia\",\"El Salvador\",\"Uruguay\",\"Bolivia\",\"Tunisia\",\"Venezuela\",\"Wales\",\"Slovakia\",\"Mongolia\",\"Qatar\",\"Algeria\",\"Nigeria\",\"Costa Rica\",\"Panama\",\"Myanmar\",\"Zimbabwe\",\"Guatemala\",\"Paraguay\",\"Croatia\",\"Honduras\",\"Lithuania\",\"Oman\",\"Belarus\",\"New Zealand\",\"Bahrain\",\"Northern Ireland\",\"Kuwait\",\"Lebanon\",\"Bulgaria\",\"Kenya\",\"Iraq\",\"Ethiopia\",\"Laos\",\"Slovenia\",\"Angola\",\"Tajikistan\",\"Afghanistan\",\"Mozambique\",\"Senegal\",\"Latvia\",\"Ghana\",\"Albania\",\"Bhutan\",\"Rwanda\",\"Mauritius\",\"Cote d'Ivoire\",\"Estonia\",\"Moldova\",\"Uganda\",\"North Macedonia\",\"Cyprus\",\"Palestine\",\"Kyrgyzstan\",\"Guinea\",\"Bosnia and Herzegovina\",\"Libya\",\"Georgia\",\"Sudan\",\"Trinidad and Tobago\",\"Malta\",\"Malawi\",\"Luxembourg\",\"Fiji\",\"Maldives\",\"Nicaragua\",\"Kosovo\",\"Macao\",\"Zambia\",\"Togo\",\"Timor\",\"Iceland\",\"Niger\",\"Guyana\",\"Jamaica\",\"Cameroon\",\"Botswana\",\"Montenegro\",\"Syria\",\"Equatorial Guinea\",\"Gambia\",\"Yemen\",\"Northern Cyprus\",\"Suriname\",\"Namibia\",\"Congo\",\"Mauritania\",\"Cape Verde\",\"Mali\",\"Brunei\",\"Comoros\",\"Armenia\",\"Belize\",\"Sierra Leone\",\"Madagascar\",\"Barbados\",\"French Polynesia\",\"Curacao\",\"Somalia\",\"Eswatini\",\"Seychelles\",\"New Caledonia\",\"Gabon\",\"Isle of Man\",\"Aruba\",\"Bahamas\",\"Tanzania\",\"Papua New Guinea\",\"Jersey\",\"Samoa\",\"Cayman Islands\",\"Central African Republic\",\"Guernsey\",\"Andorra\",\"Democratic Republic of Congo\",\"Bermuda\",\"Gibraltar\",\"Liberia\",\"Antigua and Barbuda\",\"Lesotho\",\"Benin\",\"Greenland\",\"Faeroe Islands\",\"Saint Lucia\",\"Solomon Islands\",\"Burkina Faso\",\"South Sudan\",\"Turks and Caicos Islands\",\"San Marino\",\"Sao Tome and Principe\",\"Saint Kitts and Nevis\",\"Djibouti\",\"Monaco\",\"Tonga\",\"Dominica\",\"Liechtenstein\",\"Grenada\",\"Chad\",\"Vanuatu\",\"Guinea-Bissau\",\"Sint Maarten (Dutch part)\",\"Haiti\",\"Anguilla\",\"Saint Vincent and the Grenadines\",\"Cook Islands\",\"Nauru\",\"British Virgin Islands\",\"Kiribati\",\"Wallis and Futuna\",\"Saint Helena\",\"Falkland Islands\",\"Montserrat\",\"Niue\",\"Tuvalu\",\"Tokelau\",\"Pitcairn\",\"Bonaire Sint Eustatius and Saba\",\"Turkmenistan\"],\"xaxis\":\"x\",\"y\":[1898830643,562265410,358727323,167579290,111835489,98468617,88603886,86807543,85057419,81513286,78557526,74592944,74558191,74048450,61981261,51933955,44637073,37472221,35591549,33860562,32802704,32324692,29357069,29259089,27842979,27442514,24272852,21714562,21678778,18323033,16939021,16776780,16413999,16284012,15935102,15678203,15527709,15128945,13798200,12555477,11560060,11100754,11074976,11013689,10756970,10721735,10542943,10541019,10235750,9934763,9803501,9619010,9294298,8636548,8491855,8198500,7830100,7572773,6823763,6457588,6319651,6114708,6083811,5943227,5942310,5640673,5356610,5191750,5165809,4630323,4621710,4463739,4446810,4260287,4179958,4084368,3966173,3761115,3555645,3549628,3530418,3448936,3380873,3180792,3001392,2993497,2828068,2601744,2476213,2415478,2385321,2341617,2242759,2190778,2125882,2016324,1977280,1961544,1824809,1737675,1735620,1722360,1639124,1465231,1438196,1355468,1315640,1283716,1281963,1267476,1240452,1220182,1183000,1162322,1071842,1054977,991490,933531,908446,902904,861088,837029,828876,801659,779357,764667,746249,722633,644951,589274,560910,557639,534082,533224,472846,468044,460228,427722,415209,401262,397763,365975,333571,319920,304026,302943,299269,287940,255583,254417,246280,245069,234464,232174,213549,209608,209095,202670,196768,190139,181663,162982,159387,152601,144702,135876,125175,122580,120701,117466,112880,110371,102861,101223,100384,97762,92546,90135,87454,84544,81125,77428,73464,71817,71407,66663,65571,61059,60818,60007,56739,49806,46543,45682,45030,44223,43405,42486,41566,41290,38954,38876,30367,25277,22766,22493,18770,17984,17611,14987,14523,13938,9020,7718,4933,2932,2561,1860,1045,38,0,0],\"yaxis\":\"y\"}],                        {\"barmode\":\"relative\",\"coloraxis\":{\"colorbar\":{\"title\":{\"text\":\"total_vaccinted_till_date\"}},\"colorscale\":[[0.0,\"#0d0887\"],[0.1111111111111111,\"#46039f\"],[0.2222222222222222,\"#7201a8\"],[0.3333333333333333,\"#9c179e\"],[0.4444444444444444,\"#bd3786\"],[0.5555555555555556,\"#d8576b\"],[0.6666666666666666,\"#ed7953\"],[0.7777777777777778,\"#fb9f3a\"],[0.8888888888888888,\"#fdca26\"],[1.0,\"#f0f921\"]]},\"legend\":{\"title\":{\"text\":\"Total vaccinated\"},\"tracegroupgap\":0},\"margin\":{\"t\":60},\"template\":{\"data\":{\"bar\":[{\"error_x\":{\"color\":\"#2a3f5f\"},\"error_y\":{\"color\":\"#2a3f5f\"},\"marker\":{\"line\":{\"color\":\"#E5ECF6\",\"width\":0.5},\"pattern\":{\"fillmode\":\"overlay\",\"size\":10,\"solidity\":0.2}},\"type\":\"bar\"}],\"barpolar\":[{\"marker\":{\"line\":{\"color\":\"#E5ECF6\",\"width\":0.5},\"pattern\":{\"fillmode\":\"overlay\",\"size\":10,\"solidity\":0.2}},\"type\":\"barpolar\"}],\"carpet\":[{\"aaxis\":{\"endlinecolor\":\"#2a3f5f\",\"gridcolor\":\"white\",\"linecolor\":\"white\",\"minorgridcolor\":\"white\",\"startlinecolor\":\"#2a3f5f\"},\"baxis\":{\"endlinecolor\":\"#2a3f5f\",\"gridcolor\":\"white\",\"linecolor\":\"white\",\"minorgridcolor\":\"white\",\"startlinecolor\":\"#2a3f5f\"},\"type\":\"carpet\"}],\"choropleth\":[{\"colorbar\":{\"outlinewidth\":0,\"ticks\":\"\"},\"type\":\"choropleth\"}],\"contour\":[{\"colorbar\":{\"outlinewidth\":0,\"ticks\":\"\"},\"colorscale\":[[0.0,\"#0d0887\"],[0.1111111111111111,\"#46039f\"],[0.2222222222222222,\"#7201a8\"],[0.3333333333333333,\"#9c179e\"],[0.4444444444444444,\"#bd3786\"],[0.5555555555555556,\"#d8576b\"],[0.6666666666666666,\"#ed7953\"],[0.7777777777777778,\"#fb9f3a\"],[0.8888888888888888,\"#fdca26\"],[1.0,\"#f0f921\"]],\"type\":\"contour\"}],\"contourcarpet\":[{\"colorbar\":{\"outlinewidth\":0,\"ticks\":\"\"},\"type\":\"contourcarpet\"}],\"heatmap\":[{\"colorbar\":{\"outlinewidth\":0,\"ticks\":\"\"},\"colorscale\":[[0.0,\"#0d0887\"],[0.1111111111111111,\"#46039f\"],[0.2222222222222222,\"#7201a8\"],[0.3333333333333333,\"#9c179e\"],[0.4444444444444444,\"#bd3786\"],[0.5555555555555556,\"#d8576b\"],[0.6666666666666666,\"#ed7953\"],[0.7777777777777778,\"#fb9f3a\"],[0.8888888888888888,\"#fdca26\"],[1.0,\"#f0f921\"]],\"type\":\"heatmap\"}],\"heatmapgl\":[{\"colorbar\":{\"outlinewidth\":0,\"ticks\":\"\"},\"colorscale\":[[0.0,\"#0d0887\"],[0.1111111111111111,\"#46039f\"],[0.2222222222222222,\"#7201a8\"],[0.3333333333333333,\"#9c179e\"],[0.4444444444444444,\"#bd3786\"],[0.5555555555555556,\"#d8576b\"],[0.6666666666666666,\"#ed7953\"],[0.7777777777777778,\"#fb9f3a\"],[0.8888888888888888,\"#fdca26\"],[1.0,\"#f0f921\"]],\"type\":\"heatmapgl\"}],\"histogram\":[{\"marker\":{\"pattern\":{\"fillmode\":\"overlay\",\"size\":10,\"solidity\":0.2}},\"type\":\"histogram\"}],\"histogram2d\":[{\"colorbar\":{\"outlinewidth\":0,\"ticks\":\"\"},\"colorscale\":[[0.0,\"#0d0887\"],[0.1111111111111111,\"#46039f\"],[0.2222222222222222,\"#7201a8\"],[0.3333333333333333,\"#9c179e\"],[0.4444444444444444,\"#bd3786\"],[0.5555555555555556,\"#d8576b\"],[0.6666666666666666,\"#ed7953\"],[0.7777777777777778,\"#fb9f3a\"],[0.8888888888888888,\"#fdca26\"],[1.0,\"#f0f921\"]],\"type\":\"histogram2d\"}],\"histogram2dcontour\":[{\"colorbar\":{\"outlinewidth\":0,\"ticks\":\"\"},\"colorscale\":[[0.0,\"#0d0887\"],[0.1111111111111111,\"#46039f\"],[0.2222222222222222,\"#7201a8\"],[0.3333333333333333,\"#9c179e\"],[0.4444444444444444,\"#bd3786\"],[0.5555555555555556,\"#d8576b\"],[0.6666666666666666,\"#ed7953\"],[0.7777777777777778,\"#fb9f3a\"],[0.8888888888888888,\"#fdca26\"],[1.0,\"#f0f921\"]],\"type\":\"histogram2dcontour\"}],\"mesh3d\":[{\"colorbar\":{\"outlinewidth\":0,\"ticks\":\"\"},\"type\":\"mesh3d\"}],\"parcoords\":[{\"line\":{\"colorbar\":{\"outlinewidth\":0,\"ticks\":\"\"}},\"type\":\"parcoords\"}],\"pie\":[{\"automargin\":true,\"type\":\"pie\"}],\"scatter\":[{\"marker\":{\"colorbar\":{\"outlinewidth\":0,\"ticks\":\"\"}},\"type\":\"scatter\"}],\"scatter3d\":[{\"line\":{\"colorbar\":{\"outlinewidth\":0,\"ticks\":\"\"}},\"marker\":{\"colorbar\":{\"outlinewidth\":0,\"ticks\":\"\"}},\"type\":\"scatter3d\"}],\"scattercarpet\":[{\"marker\":{\"colorbar\":{\"outlinewidth\":0,\"ticks\":\"\"}},\"type\":\"scattercarpet\"}],\"scattergeo\":[{\"marker\":{\"colorbar\":{\"outlinewidth\":0,\"ticks\":\"\"}},\"type\":\"scattergeo\"}],\"scattergl\":[{\"marker\":{\"colorbar\":{\"outlinewidth\":0,\"ticks\":\"\"}},\"type\":\"scattergl\"}],\"scattermapbox\":[{\"marker\":{\"colorbar\":{\"outlinewidth\":0,\"ticks\":\"\"}},\"type\":\"scattermapbox\"}],\"scatterpolar\":[{\"marker\":{\"colorbar\":{\"outlinewidth\":0,\"ticks\":\"\"}},\"type\":\"scatterpolar\"}],\"scatterpolargl\":[{\"marker\":{\"colorbar\":{\"outlinewidth\":0,\"ticks\":\"\"}},\"type\":\"scatterpolargl\"}],\"scatterternary\":[{\"marker\":{\"colorbar\":{\"outlinewidth\":0,\"ticks\":\"\"}},\"type\":\"scatterternary\"}],\"surface\":[{\"colorbar\":{\"outlinewidth\":0,\"ticks\":\"\"},\"colorscale\":[[0.0,\"#0d0887\"],[0.1111111111111111,\"#46039f\"],[0.2222222222222222,\"#7201a8\"],[0.3333333333333333,\"#9c179e\"],[0.4444444444444444,\"#bd3786\"],[0.5555555555555556,\"#d8576b\"],[0.6666666666666666,\"#ed7953\"],[0.7777777777777778,\"#fb9f3a\"],[0.8888888888888888,\"#fdca26\"],[1.0,\"#f0f921\"]],\"type\":\"surface\"}],\"table\":[{\"cells\":{\"fill\":{\"color\":\"#EBF0F8\"},\"line\":{\"color\":\"white\"}},\"header\":{\"fill\":{\"color\":\"#C8D4E3\"},\"line\":{\"color\":\"white\"}},\"type\":\"table\"}]},\"layout\":{\"annotationdefaults\":{\"arrowcolor\":\"#2a3f5f\",\"arrowhead\":0,\"arrowwidth\":1},\"autotypenumbers\":\"strict\",\"coloraxis\":{\"colorbar\":{\"outlinewidth\":0,\"ticks\":\"\"}},\"colorscale\":{\"diverging\":[[0,\"#8e0152\"],[0.1,\"#c51b7d\"],[0.2,\"#de77ae\"],[0.3,\"#f1b6da\"],[0.4,\"#fde0ef\"],[0.5,\"#f7f7f7\"],[0.6,\"#e6f5d0\"],[0.7,\"#b8e186\"],[0.8,\"#7fbc41\"],[0.9,\"#4d9221\"],[1,\"#276419\"]],\"sequential\":[[0.0,\"#0d0887\"],[0.1111111111111111,\"#46039f\"],[0.2222222222222222,\"#7201a8\"],[0.3333333333333333,\"#9c179e\"],[0.4444444444444444,\"#bd3786\"],[0.5555555555555556,\"#d8576b\"],[0.6666666666666666,\"#ed7953\"],[0.7777777777777778,\"#fb9f3a\"],[0.8888888888888888,\"#fdca26\"],[1.0,\"#f0f921\"]],\"sequentialminus\":[[0.0,\"#0d0887\"],[0.1111111111111111,\"#46039f\"],[0.2222222222222222,\"#7201a8\"],[0.3333333333333333,\"#9c179e\"],[0.4444444444444444,\"#bd3786\"],[0.5555555555555556,\"#d8576b\"],[0.6666666666666666,\"#ed7953\"],[0.7777777777777778,\"#fb9f3a\"],[0.8888888888888888,\"#fdca26\"],[1.0,\"#f0f921\"]]},\"colorway\":[\"#636efa\",\"#EF553B\",\"#00cc96\",\"#ab63fa\",\"#FFA15A\",\"#19d3f3\",\"#FF6692\",\"#B6E880\",\"#FF97FF\",\"#FECB52\"],\"font\":{\"color\":\"#2a3f5f\"},\"geo\":{\"bgcolor\":\"white\",\"lakecolor\":\"white\",\"landcolor\":\"#E5ECF6\",\"showlakes\":true,\"showland\":true,\"subunitcolor\":\"white\"},\"hoverlabel\":{\"align\":\"left\"},\"hovermode\":\"closest\",\"mapbox\":{\"style\":\"light\"},\"paper_bgcolor\":\"white\",\"plot_bgcolor\":\"#E5ECF6\",\"polar\":{\"angularaxis\":{\"gridcolor\":\"white\",\"linecolor\":\"white\",\"ticks\":\"\"},\"bgcolor\":\"#E5ECF6\",\"radialaxis\":{\"gridcolor\":\"white\",\"linecolor\":\"white\",\"ticks\":\"\"}},\"scene\":{\"xaxis\":{\"backgroundcolor\":\"#E5ECF6\",\"gridcolor\":\"white\",\"gridwidth\":2,\"linecolor\":\"white\",\"showbackground\":true,\"ticks\":\"\",\"zerolinecolor\":\"white\"},\"yaxis\":{\"backgroundcolor\":\"#E5ECF6\",\"gridcolor\":\"white\",\"gridwidth\":2,\"linecolor\":\"white\",\"showbackground\":true,\"ticks\":\"\",\"zerolinecolor\":\"white\"},\"zaxis\":{\"backgroundcolor\":\"#E5ECF6\",\"gridcolor\":\"white\",\"gridwidth\":2,\"linecolor\":\"white\",\"showbackground\":true,\"ticks\":\"\",\"zerolinecolor\":\"white\"}},\"shapedefaults\":{\"line\":{\"color\":\"#2a3f5f\"}},\"ternary\":{\"aaxis\":{\"gridcolor\":\"white\",\"linecolor\":\"white\",\"ticks\":\"\"},\"baxis\":{\"gridcolor\":\"white\",\"linecolor\":\"white\",\"ticks\":\"\"},\"bgcolor\":\"#E5ECF6\",\"caxis\":{\"gridcolor\":\"white\",\"linecolor\":\"white\",\"ticks\":\"\"}},\"title\":{\"x\":0.05},\"xaxis\":{\"automargin\":true,\"gridcolor\":\"white\",\"linecolor\":\"white\",\"ticks\":\"\",\"title\":{\"standoff\":15},\"zerolinecolor\":\"white\",\"zerolinewidth\":2},\"yaxis\":{\"automargin\":true,\"gridcolor\":\"white\",\"linecolor\":\"white\",\"ticks\":\"\",\"title\":{\"standoff\":15},\"zerolinecolor\":\"white\",\"zerolinewidth\":2}}},\"title\":{\"text\":\"Vaccination till date in various countries\",\"x\":0.5,\"y\":0.95},\"xaxis\":{\"anchor\":\"y\",\"domain\":[0.0,1.0],\"title\":{\"text\":\"Countries\"}},\"yaxis\":{\"anchor\":\"x\",\"domain\":[0.0,1.0],\"title\":{\"text\":\"Total vaccinated\"}}},                        {\"responsive\": true}                    ).then(function(){\n",
       "                            \n",
       "var gd = document.getElementById('413a71bc-4cd5-438d-9e89-ae0e47243d74');\n",
       "var x = new MutationObserver(function (mutations, observer) {{\n",
       "        var display = window.getComputedStyle(gd).display;\n",
       "        if (!display || display === 'none') {{\n",
       "            console.log([gd, 'removed!']);\n",
       "            Plotly.purge(gd);\n",
       "            observer.disconnect();\n",
       "        }}\n",
       "}});\n",
       "\n",
       "// Listen for the removal of the full notebook cells\n",
       "var notebookContainer = gd.closest('#notebook-container');\n",
       "if (notebookContainer) {{\n",
       "    x.observe(notebookContainer, {childList: true});\n",
       "}}\n",
       "\n",
       "// Listen for the clearing of the current output cell\n",
       "var outputEl = gd.closest('.output');\n",
       "if (outputEl) {{\n",
       "    x.observe(outputEl, {childList: true});\n",
       "}}\n",
       "\n",
       "                        })                };                });            </script>        </div>"
      ]
     },
     "metadata": {},
     "output_type": "display_data"
    }
   ],
   "source": [
    "import plotly.express as px\n",
    "import plotly.graph_objects as go\n",
    "import matplotlib.patches as mpatches\n",
    "from plotly.subplots import make_subplots\n",
    "import seaborn as sns  \n",
    "sns.set(color_codes = True)\n",
    "sns.set(style=\"whitegrid\")\n",
    "import plotly.figure_factory as ff\n",
    "from plotly.colors import n_colors\n",
    "\n",
    "fig = px.bar(country_wise_total_vaccinated_df, \n",
    "             y = 'total_vaccinted_till_date',\n",
    "             x = country_wise_total_vaccinated_df.index,\n",
    "             color = 'total_vaccinted_till_date',\n",
    "             color_discrete_sequence= px.colors.sequential.Viridis_r\n",
    "            )\n",
    "fig.update_layout(\n",
    "    title={\n",
    "            'text' : \"Vaccination till date in various countries\",\n",
    "            'y':0.95,\n",
    "            'x':0.5\n",
    "        },\n",
    "    xaxis_title=\"Countries\",\n",
    "    yaxis_title=\"Total vaccinated\",\n",
    "    legend_title=\"Total vaccinated\"\n",
    ")\n",
    "fig.show()"
   ]
  },
  {
   "cell_type": "code",
   "execution_count": 20,
   "metadata": {},
   "outputs": [
    {
     "data": {
      "application/vnd.plotly.v1+json": {
       "config": {
        "plotlyServerURL": "https://plot.ly"
       },
       "data": [
        {
         "alignmentgroup": "True",
         "hovertemplate": "index=%{x}<br>total_vaccinted_till_date=%{marker.color}<extra></extra>",
         "legendgroup": "",
         "marker": {
          "color": [
           1898830643,
           562265410,
           358727323,
           167579290,
           111835489,
           98468617,
           88603886,
           86807543,
           85057419,
           81513286,
           78557526,
           74592944,
           74558191,
           74048450,
           61981261,
           51933955,
           44637073,
           37472221,
           35591549,
           33860562,
           32802704,
           32324692,
           29357069,
           29259089,
           27842979,
           27442514,
           24272852,
           21714562,
           21678778,
           18323033,
           16939021,
           16776780,
           16413999,
           16284012,
           15935102,
           15678203,
           15527709,
           15128945,
           13798200,
           12555477,
           11560060,
           11100754,
           11074976,
           11013689,
           10756970,
           10721735,
           10542943,
           10541019,
           10235750,
           9934763,
           9803501,
           9619010,
           9294298,
           8636548,
           8491855,
           8198500,
           7830100,
           7572773,
           6823763,
           6457588,
           6319651,
           6114708,
           6083811,
           5943227,
           5942310,
           5640673,
           5356610,
           5191750,
           5165809,
           4630323,
           4621710,
           4463739,
           4446810,
           4260287,
           4179958,
           4084368,
           3966173,
           3761115,
           3555645,
           3549628,
           3530418,
           3448936,
           3380873,
           3180792,
           3001392,
           2993497,
           2828068,
           2601744,
           2476213,
           2415478,
           2385321,
           2341617,
           2242759,
           2190778,
           2125882,
           2016324,
           1977280,
           1961544,
           1824809,
           1737675,
           1735620,
           1722360,
           1639124,
           1465231,
           1438196,
           1355468,
           1315640,
           1283716,
           1281963,
           1267476,
           1240452,
           1220182,
           1183000,
           1162322,
           1071842,
           1054977,
           991490,
           933531,
           908446,
           902904,
           861088,
           837029,
           828876,
           801659,
           779357,
           764667,
           746249,
           722633,
           644951,
           589274,
           560910,
           557639,
           534082,
           533224,
           472846,
           468044,
           460228,
           427722,
           415209,
           401262,
           397763,
           365975,
           333571,
           319920,
           304026,
           302943,
           299269,
           287940,
           255583,
           254417,
           246280,
           245069,
           234464,
           232174,
           213549,
           209608,
           209095,
           202670,
           196768,
           190139,
           181663,
           162982,
           159387,
           152601,
           144702,
           135876,
           125175,
           122580,
           120701,
           117466,
           112880,
           110371,
           102861,
           101223,
           100384,
           97762,
           92546,
           90135,
           87454,
           84544,
           81125,
           77428,
           73464,
           71817,
           71407,
           66663,
           65571,
           61059,
           60818,
           60007,
           56739,
           49806,
           46543,
           45682,
           45030,
           44223,
           43405,
           42486,
           41566,
           41290,
           38954,
           38876,
           30367,
           25277,
           22766,
           22493,
           18770,
           17984,
           17611,
           14987,
           14523,
           13938,
           9020,
           7718,
           4933,
           2932,
           2561,
           1860,
           1045,
           38,
           0,
           0
          ],
          "coloraxis": "coloraxis",
          "pattern": {
           "shape": ""
          }
         },
         "name": "",
         "offsetgroup": "",
         "orientation": "v",
         "showlegend": false,
         "textposition": "auto",
         "type": "bar",
         "x": [
          "China",
          "India",
          "United States",
          "Brazil",
          "Japan",
          "Germany",
          "United Kingdom",
          "Turkey",
          "Indonesia",
          "France",
          "Mexico",
          "Russia",
          "Italy",
          "England",
          "Spain",
          "Canada",
          "Pakistan",
          "Argentina",
          "Poland",
          "South Korea",
          "Saudi Arabia",
          "Colombia",
          "Malaysia",
          "Morocco",
          "Philippines",
          "Chile",
          "Thailand",
          "Bangladesh",
          "Netherlands",
          "Iran",
          "Sri Lanka",
          "United Arab Emirates",
          "Peru",
          "Cambodia",
          "Australia",
          "Belgium",
          "Ecuador",
          "Vietnam",
          "Portugal",
          "Israel",
          "Sweden",
          "Czechia",
          "Greece",
          "Kazakhstan",
          "Uzbekistan",
          "Dominican Republic",
          "Cuba",
          "Hungary",
          "Austria",
          "Taiwan",
          "South Africa",
          "Romania",
          "Switzerland",
          "Singapore",
          "Nepal",
          "Denmark",
          "Ukraine",
          "Scotland",
          "Hong Kong",
          "Ireland",
          "Finland",
          "Egypt",
          "Norway",
          "Azerbaijan",
          "Jordan",
          "Serbia",
          "El Salvador",
          "Uruguay",
          "Bolivia",
          "Tunisia",
          "Venezuela",
          "Wales",
          "Slovakia",
          "Mongolia",
          "Qatar",
          "Algeria",
          "Nigeria",
          "Costa Rica",
          "Panama",
          "Myanmar",
          "Zimbabwe",
          "Guatemala",
          "Paraguay",
          "Croatia",
          "Honduras",
          "Lithuania",
          "Oman",
          "Belarus",
          "New Zealand",
          "Bahrain",
          "Northern Ireland",
          "Kuwait",
          "Lebanon",
          "Bulgaria",
          "Kenya",
          "Iraq",
          "Ethiopia",
          "Laos",
          "Slovenia",
          "Angola",
          "Tajikistan",
          "Afghanistan",
          "Mozambique",
          "Senegal",
          "Latvia",
          "Ghana",
          "Albania",
          "Bhutan",
          "Rwanda",
          "Mauritius",
          "Cote d'Ivoire",
          "Estonia",
          "Moldova",
          "Uganda",
          "North Macedonia",
          "Cyprus",
          "Palestine",
          "Kyrgyzstan",
          "Guinea",
          "Bosnia and Herzegovina",
          "Libya",
          "Georgia",
          "Sudan",
          "Trinidad and Tobago",
          "Malta",
          "Malawi",
          "Luxembourg",
          "Fiji",
          "Maldives",
          "Nicaragua",
          "Kosovo",
          "Macao",
          "Zambia",
          "Togo",
          "Timor",
          "Iceland",
          "Niger",
          "Guyana",
          "Jamaica",
          "Cameroon",
          "Botswana",
          "Montenegro",
          "Syria",
          "Equatorial Guinea",
          "Gambia",
          "Yemen",
          "Northern Cyprus",
          "Suriname",
          "Namibia",
          "Congo",
          "Mauritania",
          "Cape Verde",
          "Mali",
          "Brunei",
          "Comoros",
          "Armenia",
          "Belize",
          "Sierra Leone",
          "Madagascar",
          "Barbados",
          "French Polynesia",
          "Curacao",
          "Somalia",
          "Eswatini",
          "Seychelles",
          "New Caledonia",
          "Gabon",
          "Isle of Man",
          "Aruba",
          "Bahamas",
          "Tanzania",
          "Papua New Guinea",
          "Jersey",
          "Samoa",
          "Cayman Islands",
          "Central African Republic",
          "Guernsey",
          "Andorra",
          "Democratic Republic of Congo",
          "Bermuda",
          "Gibraltar",
          "Liberia",
          "Antigua and Barbuda",
          "Lesotho",
          "Benin",
          "Greenland",
          "Faeroe Islands",
          "Saint Lucia",
          "Solomon Islands",
          "Burkina Faso",
          "South Sudan",
          "Turks and Caicos Islands",
          "San Marino",
          "Sao Tome and Principe",
          "Saint Kitts and Nevis",
          "Djibouti",
          "Monaco",
          "Tonga",
          "Dominica",
          "Liechtenstein",
          "Grenada",
          "Chad",
          "Vanuatu",
          "Guinea-Bissau",
          "Sint Maarten (Dutch part)",
          "Haiti",
          "Anguilla",
          "Saint Vincent and the Grenadines",
          "Cook Islands",
          "Nauru",
          "British Virgin Islands",
          "Kiribati",
          "Wallis and Futuna",
          "Saint Helena",
          "Falkland Islands",
          "Montserrat",
          "Niue",
          "Tuvalu",
          "Tokelau",
          "Pitcairn",
          "Bonaire Sint Eustatius and Saba",
          "Turkmenistan"
         ],
         "xaxis": "x",
         "y": [
          1898830643,
          562265410,
          358727323,
          167579290,
          111835489,
          98468617,
          88603886,
          86807543,
          85057419,
          81513286,
          78557526,
          74592944,
          74558191,
          74048450,
          61981261,
          51933955,
          44637073,
          37472221,
          35591549,
          33860562,
          32802704,
          32324692,
          29357069,
          29259089,
          27842979,
          27442514,
          24272852,
          21714562,
          21678778,
          18323033,
          16939021,
          16776780,
          16413999,
          16284012,
          15935102,
          15678203,
          15527709,
          15128945,
          13798200,
          12555477,
          11560060,
          11100754,
          11074976,
          11013689,
          10756970,
          10721735,
          10542943,
          10541019,
          10235750,
          9934763,
          9803501,
          9619010,
          9294298,
          8636548,
          8491855,
          8198500,
          7830100,
          7572773,
          6823763,
          6457588,
          6319651,
          6114708,
          6083811,
          5943227,
          5942310,
          5640673,
          5356610,
          5191750,
          5165809,
          4630323,
          4621710,
          4463739,
          4446810,
          4260287,
          4179958,
          4084368,
          3966173,
          3761115,
          3555645,
          3549628,
          3530418,
          3448936,
          3380873,
          3180792,
          3001392,
          2993497,
          2828068,
          2601744,
          2476213,
          2415478,
          2385321,
          2341617,
          2242759,
          2190778,
          2125882,
          2016324,
          1977280,
          1961544,
          1824809,
          1737675,
          1735620,
          1722360,
          1639124,
          1465231,
          1438196,
          1355468,
          1315640,
          1283716,
          1281963,
          1267476,
          1240452,
          1220182,
          1183000,
          1162322,
          1071842,
          1054977,
          991490,
          933531,
          908446,
          902904,
          861088,
          837029,
          828876,
          801659,
          779357,
          764667,
          746249,
          722633,
          644951,
          589274,
          560910,
          557639,
          534082,
          533224,
          472846,
          468044,
          460228,
          427722,
          415209,
          401262,
          397763,
          365975,
          333571,
          319920,
          304026,
          302943,
          299269,
          287940,
          255583,
          254417,
          246280,
          245069,
          234464,
          232174,
          213549,
          209608,
          209095,
          202670,
          196768,
          190139,
          181663,
          162982,
          159387,
          152601,
          144702,
          135876,
          125175,
          122580,
          120701,
          117466,
          112880,
          110371,
          102861,
          101223,
          100384,
          97762,
          92546,
          90135,
          87454,
          84544,
          81125,
          77428,
          73464,
          71817,
          71407,
          66663,
          65571,
          61059,
          60818,
          60007,
          56739,
          49806,
          46543,
          45682,
          45030,
          44223,
          43405,
          42486,
          41566,
          41290,
          38954,
          38876,
          30367,
          25277,
          22766,
          22493,
          18770,
          17984,
          17611,
          14987,
          14523,
          13938,
          9020,
          7718,
          4933,
          2932,
          2561,
          1860,
          1045,
          38,
          0,
          0
         ],
         "yaxis": "y"
        }
       ],
       "layout": {
        "barmode": "relative",
        "coloraxis": {
         "colorbar": {
          "title": {
           "text": "total_vaccinted_till_date"
          }
         },
         "colorscale": [
          [
           0,
           "#0d0887"
          ],
          [
           0.1111111111111111,
           "#46039f"
          ],
          [
           0.2222222222222222,
           "#7201a8"
          ],
          [
           0.3333333333333333,
           "#9c179e"
          ],
          [
           0.4444444444444444,
           "#bd3786"
          ],
          [
           0.5555555555555556,
           "#d8576b"
          ],
          [
           0.6666666666666666,
           "#ed7953"
          ],
          [
           0.7777777777777778,
           "#fb9f3a"
          ],
          [
           0.8888888888888888,
           "#fdca26"
          ],
          [
           1,
           "#f0f921"
          ]
         ]
        },
        "legend": {
         "title": {
          "text": "Total vaccinated"
         },
         "tracegroupgap": 0
        },
        "margin": {
         "t": 60
        },
        "template": {
         "data": {
          "bar": [
           {
            "error_x": {
             "color": "#2a3f5f"
            },
            "error_y": {
             "color": "#2a3f5f"
            },
            "marker": {
             "line": {
              "color": "#E5ECF6",
              "width": 0.5
             },
             "pattern": {
              "fillmode": "overlay",
              "size": 10,
              "solidity": 0.2
             }
            },
            "type": "bar"
           }
          ],
          "barpolar": [
           {
            "marker": {
             "line": {
              "color": "#E5ECF6",
              "width": 0.5
             },
             "pattern": {
              "fillmode": "overlay",
              "size": 10,
              "solidity": 0.2
             }
            },
            "type": "barpolar"
           }
          ],
          "carpet": [
           {
            "aaxis": {
             "endlinecolor": "#2a3f5f",
             "gridcolor": "white",
             "linecolor": "white",
             "minorgridcolor": "white",
             "startlinecolor": "#2a3f5f"
            },
            "baxis": {
             "endlinecolor": "#2a3f5f",
             "gridcolor": "white",
             "linecolor": "white",
             "minorgridcolor": "white",
             "startlinecolor": "#2a3f5f"
            },
            "type": "carpet"
           }
          ],
          "choropleth": [
           {
            "colorbar": {
             "outlinewidth": 0,
             "ticks": ""
            },
            "type": "choropleth"
           }
          ],
          "contour": [
           {
            "colorbar": {
             "outlinewidth": 0,
             "ticks": ""
            },
            "colorscale": [
             [
              0,
              "#0d0887"
             ],
             [
              0.1111111111111111,
              "#46039f"
             ],
             [
              0.2222222222222222,
              "#7201a8"
             ],
             [
              0.3333333333333333,
              "#9c179e"
             ],
             [
              0.4444444444444444,
              "#bd3786"
             ],
             [
              0.5555555555555556,
              "#d8576b"
             ],
             [
              0.6666666666666666,
              "#ed7953"
             ],
             [
              0.7777777777777778,
              "#fb9f3a"
             ],
             [
              0.8888888888888888,
              "#fdca26"
             ],
             [
              1,
              "#f0f921"
             ]
            ],
            "type": "contour"
           }
          ],
          "contourcarpet": [
           {
            "colorbar": {
             "outlinewidth": 0,
             "ticks": ""
            },
            "type": "contourcarpet"
           }
          ],
          "heatmap": [
           {
            "colorbar": {
             "outlinewidth": 0,
             "ticks": ""
            },
            "colorscale": [
             [
              0,
              "#0d0887"
             ],
             [
              0.1111111111111111,
              "#46039f"
             ],
             [
              0.2222222222222222,
              "#7201a8"
             ],
             [
              0.3333333333333333,
              "#9c179e"
             ],
             [
              0.4444444444444444,
              "#bd3786"
             ],
             [
              0.5555555555555556,
              "#d8576b"
             ],
             [
              0.6666666666666666,
              "#ed7953"
             ],
             [
              0.7777777777777778,
              "#fb9f3a"
             ],
             [
              0.8888888888888888,
              "#fdca26"
             ],
             [
              1,
              "#f0f921"
             ]
            ],
            "type": "heatmap"
           }
          ],
          "heatmapgl": [
           {
            "colorbar": {
             "outlinewidth": 0,
             "ticks": ""
            },
            "colorscale": [
             [
              0,
              "#0d0887"
             ],
             [
              0.1111111111111111,
              "#46039f"
             ],
             [
              0.2222222222222222,
              "#7201a8"
             ],
             [
              0.3333333333333333,
              "#9c179e"
             ],
             [
              0.4444444444444444,
              "#bd3786"
             ],
             [
              0.5555555555555556,
              "#d8576b"
             ],
             [
              0.6666666666666666,
              "#ed7953"
             ],
             [
              0.7777777777777778,
              "#fb9f3a"
             ],
             [
              0.8888888888888888,
              "#fdca26"
             ],
             [
              1,
              "#f0f921"
             ]
            ],
            "type": "heatmapgl"
           }
          ],
          "histogram": [
           {
            "marker": {
             "pattern": {
              "fillmode": "overlay",
              "size": 10,
              "solidity": 0.2
             }
            },
            "type": "histogram"
           }
          ],
          "histogram2d": [
           {
            "colorbar": {
             "outlinewidth": 0,
             "ticks": ""
            },
            "colorscale": [
             [
              0,
              "#0d0887"
             ],
             [
              0.1111111111111111,
              "#46039f"
             ],
             [
              0.2222222222222222,
              "#7201a8"
             ],
             [
              0.3333333333333333,
              "#9c179e"
             ],
             [
              0.4444444444444444,
              "#bd3786"
             ],
             [
              0.5555555555555556,
              "#d8576b"
             ],
             [
              0.6666666666666666,
              "#ed7953"
             ],
             [
              0.7777777777777778,
              "#fb9f3a"
             ],
             [
              0.8888888888888888,
              "#fdca26"
             ],
             [
              1,
              "#f0f921"
             ]
            ],
            "type": "histogram2d"
           }
          ],
          "histogram2dcontour": [
           {
            "colorbar": {
             "outlinewidth": 0,
             "ticks": ""
            },
            "colorscale": [
             [
              0,
              "#0d0887"
             ],
             [
              0.1111111111111111,
              "#46039f"
             ],
             [
              0.2222222222222222,
              "#7201a8"
             ],
             [
              0.3333333333333333,
              "#9c179e"
             ],
             [
              0.4444444444444444,
              "#bd3786"
             ],
             [
              0.5555555555555556,
              "#d8576b"
             ],
             [
              0.6666666666666666,
              "#ed7953"
             ],
             [
              0.7777777777777778,
              "#fb9f3a"
             ],
             [
              0.8888888888888888,
              "#fdca26"
             ],
             [
              1,
              "#f0f921"
             ]
            ],
            "type": "histogram2dcontour"
           }
          ],
          "mesh3d": [
           {
            "colorbar": {
             "outlinewidth": 0,
             "ticks": ""
            },
            "type": "mesh3d"
           }
          ],
          "parcoords": [
           {
            "line": {
             "colorbar": {
              "outlinewidth": 0,
              "ticks": ""
             }
            },
            "type": "parcoords"
           }
          ],
          "pie": [
           {
            "automargin": true,
            "type": "pie"
           }
          ],
          "scatter": [
           {
            "marker": {
             "colorbar": {
              "outlinewidth": 0,
              "ticks": ""
             }
            },
            "type": "scatter"
           }
          ],
          "scatter3d": [
           {
            "line": {
             "colorbar": {
              "outlinewidth": 0,
              "ticks": ""
             }
            },
            "marker": {
             "colorbar": {
              "outlinewidth": 0,
              "ticks": ""
             }
            },
            "type": "scatter3d"
           }
          ],
          "scattercarpet": [
           {
            "marker": {
             "colorbar": {
              "outlinewidth": 0,
              "ticks": ""
             }
            },
            "type": "scattercarpet"
           }
          ],
          "scattergeo": [
           {
            "marker": {
             "colorbar": {
              "outlinewidth": 0,
              "ticks": ""
             }
            },
            "type": "scattergeo"
           }
          ],
          "scattergl": [
           {
            "marker": {
             "colorbar": {
              "outlinewidth": 0,
              "ticks": ""
             }
            },
            "type": "scattergl"
           }
          ],
          "scattermapbox": [
           {
            "marker": {
             "colorbar": {
              "outlinewidth": 0,
              "ticks": ""
             }
            },
            "type": "scattermapbox"
           }
          ],
          "scatterpolar": [
           {
            "marker": {
             "colorbar": {
              "outlinewidth": 0,
              "ticks": ""
             }
            },
            "type": "scatterpolar"
           }
          ],
          "scatterpolargl": [
           {
            "marker": {
             "colorbar": {
              "outlinewidth": 0,
              "ticks": ""
             }
            },
            "type": "scatterpolargl"
           }
          ],
          "scatterternary": [
           {
            "marker": {
             "colorbar": {
              "outlinewidth": 0,
              "ticks": ""
             }
            },
            "type": "scatterternary"
           }
          ],
          "surface": [
           {
            "colorbar": {
             "outlinewidth": 0,
             "ticks": ""
            },
            "colorscale": [
             [
              0,
              "#0d0887"
             ],
             [
              0.1111111111111111,
              "#46039f"
             ],
             [
              0.2222222222222222,
              "#7201a8"
             ],
             [
              0.3333333333333333,
              "#9c179e"
             ],
             [
              0.4444444444444444,
              "#bd3786"
             ],
             [
              0.5555555555555556,
              "#d8576b"
             ],
             [
              0.6666666666666666,
              "#ed7953"
             ],
             [
              0.7777777777777778,
              "#fb9f3a"
             ],
             [
              0.8888888888888888,
              "#fdca26"
             ],
             [
              1,
              "#f0f921"
             ]
            ],
            "type": "surface"
           }
          ],
          "table": [
           {
            "cells": {
             "fill": {
              "color": "#EBF0F8"
             },
             "line": {
              "color": "white"
             }
            },
            "header": {
             "fill": {
              "color": "#C8D4E3"
             },
             "line": {
              "color": "white"
             }
            },
            "type": "table"
           }
          ]
         },
         "layout": {
          "annotationdefaults": {
           "arrowcolor": "#2a3f5f",
           "arrowhead": 0,
           "arrowwidth": 1
          },
          "autotypenumbers": "strict",
          "coloraxis": {
           "colorbar": {
            "outlinewidth": 0,
            "ticks": ""
           }
          },
          "colorscale": {
           "diverging": [
            [
             0,
             "#8e0152"
            ],
            [
             0.1,
             "#c51b7d"
            ],
            [
             0.2,
             "#de77ae"
            ],
            [
             0.3,
             "#f1b6da"
            ],
            [
             0.4,
             "#fde0ef"
            ],
            [
             0.5,
             "#f7f7f7"
            ],
            [
             0.6,
             "#e6f5d0"
            ],
            [
             0.7,
             "#b8e186"
            ],
            [
             0.8,
             "#7fbc41"
            ],
            [
             0.9,
             "#4d9221"
            ],
            [
             1,
             "#276419"
            ]
           ],
           "sequential": [
            [
             0,
             "#0d0887"
            ],
            [
             0.1111111111111111,
             "#46039f"
            ],
            [
             0.2222222222222222,
             "#7201a8"
            ],
            [
             0.3333333333333333,
             "#9c179e"
            ],
            [
             0.4444444444444444,
             "#bd3786"
            ],
            [
             0.5555555555555556,
             "#d8576b"
            ],
            [
             0.6666666666666666,
             "#ed7953"
            ],
            [
             0.7777777777777778,
             "#fb9f3a"
            ],
            [
             0.8888888888888888,
             "#fdca26"
            ],
            [
             1,
             "#f0f921"
            ]
           ],
           "sequentialminus": [
            [
             0,
             "#0d0887"
            ],
            [
             0.1111111111111111,
             "#46039f"
            ],
            [
             0.2222222222222222,
             "#7201a8"
            ],
            [
             0.3333333333333333,
             "#9c179e"
            ],
            [
             0.4444444444444444,
             "#bd3786"
            ],
            [
             0.5555555555555556,
             "#d8576b"
            ],
            [
             0.6666666666666666,
             "#ed7953"
            ],
            [
             0.7777777777777778,
             "#fb9f3a"
            ],
            [
             0.8888888888888888,
             "#fdca26"
            ],
            [
             1,
             "#f0f921"
            ]
           ]
          },
          "colorway": [
           "#636efa",
           "#EF553B",
           "#00cc96",
           "#ab63fa",
           "#FFA15A",
           "#19d3f3",
           "#FF6692",
           "#B6E880",
           "#FF97FF",
           "#FECB52"
          ],
          "font": {
           "color": "#2a3f5f"
          },
          "geo": {
           "bgcolor": "white",
           "lakecolor": "white",
           "landcolor": "#E5ECF6",
           "showlakes": true,
           "showland": true,
           "subunitcolor": "white"
          },
          "hoverlabel": {
           "align": "left"
          },
          "hovermode": "closest",
          "mapbox": {
           "style": "light"
          },
          "paper_bgcolor": "white",
          "plot_bgcolor": "#E5ECF6",
          "polar": {
           "angularaxis": {
            "gridcolor": "white",
            "linecolor": "white",
            "ticks": ""
           },
           "bgcolor": "#E5ECF6",
           "radialaxis": {
            "gridcolor": "white",
            "linecolor": "white",
            "ticks": ""
           }
          },
          "scene": {
           "xaxis": {
            "backgroundcolor": "#E5ECF6",
            "gridcolor": "white",
            "gridwidth": 2,
            "linecolor": "white",
            "showbackground": true,
            "ticks": "",
            "zerolinecolor": "white"
           },
           "yaxis": {
            "backgroundcolor": "#E5ECF6",
            "gridcolor": "white",
            "gridwidth": 2,
            "linecolor": "white",
            "showbackground": true,
            "ticks": "",
            "zerolinecolor": "white"
           },
           "zaxis": {
            "backgroundcolor": "#E5ECF6",
            "gridcolor": "white",
            "gridwidth": 2,
            "linecolor": "white",
            "showbackground": true,
            "ticks": "",
            "zerolinecolor": "white"
           }
          },
          "shapedefaults": {
           "line": {
            "color": "#2a3f5f"
           }
          },
          "ternary": {
           "aaxis": {
            "gridcolor": "white",
            "linecolor": "white",
            "ticks": ""
           },
           "baxis": {
            "gridcolor": "white",
            "linecolor": "white",
            "ticks": ""
           },
           "bgcolor": "#E5ECF6",
           "caxis": {
            "gridcolor": "white",
            "linecolor": "white",
            "ticks": ""
           }
          },
          "title": {
           "x": 0.05
          },
          "xaxis": {
           "automargin": true,
           "gridcolor": "white",
           "linecolor": "white",
           "ticks": "",
           "title": {
            "standoff": 15
           },
           "zerolinecolor": "white",
           "zerolinewidth": 2
          },
          "yaxis": {
           "automargin": true,
           "gridcolor": "white",
           "linecolor": "white",
           "ticks": "",
           "title": {
            "standoff": 15
           },
           "zerolinecolor": "white",
           "zerolinewidth": 2
          }
         }
        },
        "title": {
         "text": "Daily vaccination trend",
         "x": 0.5,
         "y": 0.95
        },
        "xaxis": {
         "anchor": "y",
         "domain": [
          0,
          1
         ],
         "title": {
          "text": "Date"
         }
        },
        "yaxis": {
         "anchor": "x",
         "domain": [
          0,
          1
         ],
         "title": {
          "text": "Daily Vaccinations"
         }
        }
       }
      },
      "text/html": [
       "<div>                            <div id=\"6f50985c-af75-496d-8de1-6ae74e29ab3a\" class=\"plotly-graph-div\" style=\"height:525px; width:100%;\"></div>            <script type=\"text/javascript\">                require([\"plotly\"], function(Plotly) {                    window.PLOTLYENV=window.PLOTLYENV || {};                                    if (document.getElementById(\"6f50985c-af75-496d-8de1-6ae74e29ab3a\")) {                    Plotly.newPlot(                        \"6f50985c-af75-496d-8de1-6ae74e29ab3a\",                        [{\"alignmentgroup\":\"True\",\"hovertemplate\":\"index=%{x}<br>total_vaccinted_till_date=%{marker.color}<extra></extra>\",\"legendgroup\":\"\",\"marker\":{\"color\":[1898830643,562265410,358727323,167579290,111835489,98468617,88603886,86807543,85057419,81513286,78557526,74592944,74558191,74048450,61981261,51933955,44637073,37472221,35591549,33860562,32802704,32324692,29357069,29259089,27842979,27442514,24272852,21714562,21678778,18323033,16939021,16776780,16413999,16284012,15935102,15678203,15527709,15128945,13798200,12555477,11560060,11100754,11074976,11013689,10756970,10721735,10542943,10541019,10235750,9934763,9803501,9619010,9294298,8636548,8491855,8198500,7830100,7572773,6823763,6457588,6319651,6114708,6083811,5943227,5942310,5640673,5356610,5191750,5165809,4630323,4621710,4463739,4446810,4260287,4179958,4084368,3966173,3761115,3555645,3549628,3530418,3448936,3380873,3180792,3001392,2993497,2828068,2601744,2476213,2415478,2385321,2341617,2242759,2190778,2125882,2016324,1977280,1961544,1824809,1737675,1735620,1722360,1639124,1465231,1438196,1355468,1315640,1283716,1281963,1267476,1240452,1220182,1183000,1162322,1071842,1054977,991490,933531,908446,902904,861088,837029,828876,801659,779357,764667,746249,722633,644951,589274,560910,557639,534082,533224,472846,468044,460228,427722,415209,401262,397763,365975,333571,319920,304026,302943,299269,287940,255583,254417,246280,245069,234464,232174,213549,209608,209095,202670,196768,190139,181663,162982,159387,152601,144702,135876,125175,122580,120701,117466,112880,110371,102861,101223,100384,97762,92546,90135,87454,84544,81125,77428,73464,71817,71407,66663,65571,61059,60818,60007,56739,49806,46543,45682,45030,44223,43405,42486,41566,41290,38954,38876,30367,25277,22766,22493,18770,17984,17611,14987,14523,13938,9020,7718,4933,2932,2561,1860,1045,38,0,0],\"coloraxis\":\"coloraxis\",\"pattern\":{\"shape\":\"\"}},\"name\":\"\",\"offsetgroup\":\"\",\"orientation\":\"v\",\"showlegend\":false,\"textposition\":\"auto\",\"type\":\"bar\",\"x\":[\"China\",\"India\",\"United States\",\"Brazil\",\"Japan\",\"Germany\",\"United Kingdom\",\"Turkey\",\"Indonesia\",\"France\",\"Mexico\",\"Russia\",\"Italy\",\"England\",\"Spain\",\"Canada\",\"Pakistan\",\"Argentina\",\"Poland\",\"South Korea\",\"Saudi Arabia\",\"Colombia\",\"Malaysia\",\"Morocco\",\"Philippines\",\"Chile\",\"Thailand\",\"Bangladesh\",\"Netherlands\",\"Iran\",\"Sri Lanka\",\"United Arab Emirates\",\"Peru\",\"Cambodia\",\"Australia\",\"Belgium\",\"Ecuador\",\"Vietnam\",\"Portugal\",\"Israel\",\"Sweden\",\"Czechia\",\"Greece\",\"Kazakhstan\",\"Uzbekistan\",\"Dominican Republic\",\"Cuba\",\"Hungary\",\"Austria\",\"Taiwan\",\"South Africa\",\"Romania\",\"Switzerland\",\"Singapore\",\"Nepal\",\"Denmark\",\"Ukraine\",\"Scotland\",\"Hong Kong\",\"Ireland\",\"Finland\",\"Egypt\",\"Norway\",\"Azerbaijan\",\"Jordan\",\"Serbia\",\"El Salvador\",\"Uruguay\",\"Bolivia\",\"Tunisia\",\"Venezuela\",\"Wales\",\"Slovakia\",\"Mongolia\",\"Qatar\",\"Algeria\",\"Nigeria\",\"Costa Rica\",\"Panama\",\"Myanmar\",\"Zimbabwe\",\"Guatemala\",\"Paraguay\",\"Croatia\",\"Honduras\",\"Lithuania\",\"Oman\",\"Belarus\",\"New Zealand\",\"Bahrain\",\"Northern Ireland\",\"Kuwait\",\"Lebanon\",\"Bulgaria\",\"Kenya\",\"Iraq\",\"Ethiopia\",\"Laos\",\"Slovenia\",\"Angola\",\"Tajikistan\",\"Afghanistan\",\"Mozambique\",\"Senegal\",\"Latvia\",\"Ghana\",\"Albania\",\"Bhutan\",\"Rwanda\",\"Mauritius\",\"Cote d'Ivoire\",\"Estonia\",\"Moldova\",\"Uganda\",\"North Macedonia\",\"Cyprus\",\"Palestine\",\"Kyrgyzstan\",\"Guinea\",\"Bosnia and Herzegovina\",\"Libya\",\"Georgia\",\"Sudan\",\"Trinidad and Tobago\",\"Malta\",\"Malawi\",\"Luxembourg\",\"Fiji\",\"Maldives\",\"Nicaragua\",\"Kosovo\",\"Macao\",\"Zambia\",\"Togo\",\"Timor\",\"Iceland\",\"Niger\",\"Guyana\",\"Jamaica\",\"Cameroon\",\"Botswana\",\"Montenegro\",\"Syria\",\"Equatorial Guinea\",\"Gambia\",\"Yemen\",\"Northern Cyprus\",\"Suriname\",\"Namibia\",\"Congo\",\"Mauritania\",\"Cape Verde\",\"Mali\",\"Brunei\",\"Comoros\",\"Armenia\",\"Belize\",\"Sierra Leone\",\"Madagascar\",\"Barbados\",\"French Polynesia\",\"Curacao\",\"Somalia\",\"Eswatini\",\"Seychelles\",\"New Caledonia\",\"Gabon\",\"Isle of Man\",\"Aruba\",\"Bahamas\",\"Tanzania\",\"Papua New Guinea\",\"Jersey\",\"Samoa\",\"Cayman Islands\",\"Central African Republic\",\"Guernsey\",\"Andorra\",\"Democratic Republic of Congo\",\"Bermuda\",\"Gibraltar\",\"Liberia\",\"Antigua and Barbuda\",\"Lesotho\",\"Benin\",\"Greenland\",\"Faeroe Islands\",\"Saint Lucia\",\"Solomon Islands\",\"Burkina Faso\",\"South Sudan\",\"Turks and Caicos Islands\",\"San Marino\",\"Sao Tome and Principe\",\"Saint Kitts and Nevis\",\"Djibouti\",\"Monaco\",\"Tonga\",\"Dominica\",\"Liechtenstein\",\"Grenada\",\"Chad\",\"Vanuatu\",\"Guinea-Bissau\",\"Sint Maarten (Dutch part)\",\"Haiti\",\"Anguilla\",\"Saint Vincent and the Grenadines\",\"Cook Islands\",\"Nauru\",\"British Virgin Islands\",\"Kiribati\",\"Wallis and Futuna\",\"Saint Helena\",\"Falkland Islands\",\"Montserrat\",\"Niue\",\"Tuvalu\",\"Tokelau\",\"Pitcairn\",\"Bonaire Sint Eustatius and Saba\",\"Turkmenistan\"],\"xaxis\":\"x\",\"y\":[1898830643,562265410,358727323,167579290,111835489,98468617,88603886,86807543,85057419,81513286,78557526,74592944,74558191,74048450,61981261,51933955,44637073,37472221,35591549,33860562,32802704,32324692,29357069,29259089,27842979,27442514,24272852,21714562,21678778,18323033,16939021,16776780,16413999,16284012,15935102,15678203,15527709,15128945,13798200,12555477,11560060,11100754,11074976,11013689,10756970,10721735,10542943,10541019,10235750,9934763,9803501,9619010,9294298,8636548,8491855,8198500,7830100,7572773,6823763,6457588,6319651,6114708,6083811,5943227,5942310,5640673,5356610,5191750,5165809,4630323,4621710,4463739,4446810,4260287,4179958,4084368,3966173,3761115,3555645,3549628,3530418,3448936,3380873,3180792,3001392,2993497,2828068,2601744,2476213,2415478,2385321,2341617,2242759,2190778,2125882,2016324,1977280,1961544,1824809,1737675,1735620,1722360,1639124,1465231,1438196,1355468,1315640,1283716,1281963,1267476,1240452,1220182,1183000,1162322,1071842,1054977,991490,933531,908446,902904,861088,837029,828876,801659,779357,764667,746249,722633,644951,589274,560910,557639,534082,533224,472846,468044,460228,427722,415209,401262,397763,365975,333571,319920,304026,302943,299269,287940,255583,254417,246280,245069,234464,232174,213549,209608,209095,202670,196768,190139,181663,162982,159387,152601,144702,135876,125175,122580,120701,117466,112880,110371,102861,101223,100384,97762,92546,90135,87454,84544,81125,77428,73464,71817,71407,66663,65571,61059,60818,60007,56739,49806,46543,45682,45030,44223,43405,42486,41566,41290,38954,38876,30367,25277,22766,22493,18770,17984,17611,14987,14523,13938,9020,7718,4933,2932,2561,1860,1045,38,0,0],\"yaxis\":\"y\"}],                        {\"barmode\":\"relative\",\"coloraxis\":{\"colorbar\":{\"title\":{\"text\":\"total_vaccinted_till_date\"}},\"colorscale\":[[0.0,\"#0d0887\"],[0.1111111111111111,\"#46039f\"],[0.2222222222222222,\"#7201a8\"],[0.3333333333333333,\"#9c179e\"],[0.4444444444444444,\"#bd3786\"],[0.5555555555555556,\"#d8576b\"],[0.6666666666666666,\"#ed7953\"],[0.7777777777777778,\"#fb9f3a\"],[0.8888888888888888,\"#fdca26\"],[1.0,\"#f0f921\"]]},\"legend\":{\"title\":{\"text\":\"Total vaccinated\"},\"tracegroupgap\":0},\"margin\":{\"t\":60},\"template\":{\"data\":{\"bar\":[{\"error_x\":{\"color\":\"#2a3f5f\"},\"error_y\":{\"color\":\"#2a3f5f\"},\"marker\":{\"line\":{\"color\":\"#E5ECF6\",\"width\":0.5},\"pattern\":{\"fillmode\":\"overlay\",\"size\":10,\"solidity\":0.2}},\"type\":\"bar\"}],\"barpolar\":[{\"marker\":{\"line\":{\"color\":\"#E5ECF6\",\"width\":0.5},\"pattern\":{\"fillmode\":\"overlay\",\"size\":10,\"solidity\":0.2}},\"type\":\"barpolar\"}],\"carpet\":[{\"aaxis\":{\"endlinecolor\":\"#2a3f5f\",\"gridcolor\":\"white\",\"linecolor\":\"white\",\"minorgridcolor\":\"white\",\"startlinecolor\":\"#2a3f5f\"},\"baxis\":{\"endlinecolor\":\"#2a3f5f\",\"gridcolor\":\"white\",\"linecolor\":\"white\",\"minorgridcolor\":\"white\",\"startlinecolor\":\"#2a3f5f\"},\"type\":\"carpet\"}],\"choropleth\":[{\"colorbar\":{\"outlinewidth\":0,\"ticks\":\"\"},\"type\":\"choropleth\"}],\"contour\":[{\"colorbar\":{\"outlinewidth\":0,\"ticks\":\"\"},\"colorscale\":[[0.0,\"#0d0887\"],[0.1111111111111111,\"#46039f\"],[0.2222222222222222,\"#7201a8\"],[0.3333333333333333,\"#9c179e\"],[0.4444444444444444,\"#bd3786\"],[0.5555555555555556,\"#d8576b\"],[0.6666666666666666,\"#ed7953\"],[0.7777777777777778,\"#fb9f3a\"],[0.8888888888888888,\"#fdca26\"],[1.0,\"#f0f921\"]],\"type\":\"contour\"}],\"contourcarpet\":[{\"colorbar\":{\"outlinewidth\":0,\"ticks\":\"\"},\"type\":\"contourcarpet\"}],\"heatmap\":[{\"colorbar\":{\"outlinewidth\":0,\"ticks\":\"\"},\"colorscale\":[[0.0,\"#0d0887\"],[0.1111111111111111,\"#46039f\"],[0.2222222222222222,\"#7201a8\"],[0.3333333333333333,\"#9c179e\"],[0.4444444444444444,\"#bd3786\"],[0.5555555555555556,\"#d8576b\"],[0.6666666666666666,\"#ed7953\"],[0.7777777777777778,\"#fb9f3a\"],[0.8888888888888888,\"#fdca26\"],[1.0,\"#f0f921\"]],\"type\":\"heatmap\"}],\"heatmapgl\":[{\"colorbar\":{\"outlinewidth\":0,\"ticks\":\"\"},\"colorscale\":[[0.0,\"#0d0887\"],[0.1111111111111111,\"#46039f\"],[0.2222222222222222,\"#7201a8\"],[0.3333333333333333,\"#9c179e\"],[0.4444444444444444,\"#bd3786\"],[0.5555555555555556,\"#d8576b\"],[0.6666666666666666,\"#ed7953\"],[0.7777777777777778,\"#fb9f3a\"],[0.8888888888888888,\"#fdca26\"],[1.0,\"#f0f921\"]],\"type\":\"heatmapgl\"}],\"histogram\":[{\"marker\":{\"pattern\":{\"fillmode\":\"overlay\",\"size\":10,\"solidity\":0.2}},\"type\":\"histogram\"}],\"histogram2d\":[{\"colorbar\":{\"outlinewidth\":0,\"ticks\":\"\"},\"colorscale\":[[0.0,\"#0d0887\"],[0.1111111111111111,\"#46039f\"],[0.2222222222222222,\"#7201a8\"],[0.3333333333333333,\"#9c179e\"],[0.4444444444444444,\"#bd3786\"],[0.5555555555555556,\"#d8576b\"],[0.6666666666666666,\"#ed7953\"],[0.7777777777777778,\"#fb9f3a\"],[0.8888888888888888,\"#fdca26\"],[1.0,\"#f0f921\"]],\"type\":\"histogram2d\"}],\"histogram2dcontour\":[{\"colorbar\":{\"outlinewidth\":0,\"ticks\":\"\"},\"colorscale\":[[0.0,\"#0d0887\"],[0.1111111111111111,\"#46039f\"],[0.2222222222222222,\"#7201a8\"],[0.3333333333333333,\"#9c179e\"],[0.4444444444444444,\"#bd3786\"],[0.5555555555555556,\"#d8576b\"],[0.6666666666666666,\"#ed7953\"],[0.7777777777777778,\"#fb9f3a\"],[0.8888888888888888,\"#fdca26\"],[1.0,\"#f0f921\"]],\"type\":\"histogram2dcontour\"}],\"mesh3d\":[{\"colorbar\":{\"outlinewidth\":0,\"ticks\":\"\"},\"type\":\"mesh3d\"}],\"parcoords\":[{\"line\":{\"colorbar\":{\"outlinewidth\":0,\"ticks\":\"\"}},\"type\":\"parcoords\"}],\"pie\":[{\"automargin\":true,\"type\":\"pie\"}],\"scatter\":[{\"marker\":{\"colorbar\":{\"outlinewidth\":0,\"ticks\":\"\"}},\"type\":\"scatter\"}],\"scatter3d\":[{\"line\":{\"colorbar\":{\"outlinewidth\":0,\"ticks\":\"\"}},\"marker\":{\"colorbar\":{\"outlinewidth\":0,\"ticks\":\"\"}},\"type\":\"scatter3d\"}],\"scattercarpet\":[{\"marker\":{\"colorbar\":{\"outlinewidth\":0,\"ticks\":\"\"}},\"type\":\"scattercarpet\"}],\"scattergeo\":[{\"marker\":{\"colorbar\":{\"outlinewidth\":0,\"ticks\":\"\"}},\"type\":\"scattergeo\"}],\"scattergl\":[{\"marker\":{\"colorbar\":{\"outlinewidth\":0,\"ticks\":\"\"}},\"type\":\"scattergl\"}],\"scattermapbox\":[{\"marker\":{\"colorbar\":{\"outlinewidth\":0,\"ticks\":\"\"}},\"type\":\"scattermapbox\"}],\"scatterpolar\":[{\"marker\":{\"colorbar\":{\"outlinewidth\":0,\"ticks\":\"\"}},\"type\":\"scatterpolar\"}],\"scatterpolargl\":[{\"marker\":{\"colorbar\":{\"outlinewidth\":0,\"ticks\":\"\"}},\"type\":\"scatterpolargl\"}],\"scatterternary\":[{\"marker\":{\"colorbar\":{\"outlinewidth\":0,\"ticks\":\"\"}},\"type\":\"scatterternary\"}],\"surface\":[{\"colorbar\":{\"outlinewidth\":0,\"ticks\":\"\"},\"colorscale\":[[0.0,\"#0d0887\"],[0.1111111111111111,\"#46039f\"],[0.2222222222222222,\"#7201a8\"],[0.3333333333333333,\"#9c179e\"],[0.4444444444444444,\"#bd3786\"],[0.5555555555555556,\"#d8576b\"],[0.6666666666666666,\"#ed7953\"],[0.7777777777777778,\"#fb9f3a\"],[0.8888888888888888,\"#fdca26\"],[1.0,\"#f0f921\"]],\"type\":\"surface\"}],\"table\":[{\"cells\":{\"fill\":{\"color\":\"#EBF0F8\"},\"line\":{\"color\":\"white\"}},\"header\":{\"fill\":{\"color\":\"#C8D4E3\"},\"line\":{\"color\":\"white\"}},\"type\":\"table\"}]},\"layout\":{\"annotationdefaults\":{\"arrowcolor\":\"#2a3f5f\",\"arrowhead\":0,\"arrowwidth\":1},\"autotypenumbers\":\"strict\",\"coloraxis\":{\"colorbar\":{\"outlinewidth\":0,\"ticks\":\"\"}},\"colorscale\":{\"diverging\":[[0,\"#8e0152\"],[0.1,\"#c51b7d\"],[0.2,\"#de77ae\"],[0.3,\"#f1b6da\"],[0.4,\"#fde0ef\"],[0.5,\"#f7f7f7\"],[0.6,\"#e6f5d0\"],[0.7,\"#b8e186\"],[0.8,\"#7fbc41\"],[0.9,\"#4d9221\"],[1,\"#276419\"]],\"sequential\":[[0.0,\"#0d0887\"],[0.1111111111111111,\"#46039f\"],[0.2222222222222222,\"#7201a8\"],[0.3333333333333333,\"#9c179e\"],[0.4444444444444444,\"#bd3786\"],[0.5555555555555556,\"#d8576b\"],[0.6666666666666666,\"#ed7953\"],[0.7777777777777778,\"#fb9f3a\"],[0.8888888888888888,\"#fdca26\"],[1.0,\"#f0f921\"]],\"sequentialminus\":[[0.0,\"#0d0887\"],[0.1111111111111111,\"#46039f\"],[0.2222222222222222,\"#7201a8\"],[0.3333333333333333,\"#9c179e\"],[0.4444444444444444,\"#bd3786\"],[0.5555555555555556,\"#d8576b\"],[0.6666666666666666,\"#ed7953\"],[0.7777777777777778,\"#fb9f3a\"],[0.8888888888888888,\"#fdca26\"],[1.0,\"#f0f921\"]]},\"colorway\":[\"#636efa\",\"#EF553B\",\"#00cc96\",\"#ab63fa\",\"#FFA15A\",\"#19d3f3\",\"#FF6692\",\"#B6E880\",\"#FF97FF\",\"#FECB52\"],\"font\":{\"color\":\"#2a3f5f\"},\"geo\":{\"bgcolor\":\"white\",\"lakecolor\":\"white\",\"landcolor\":\"#E5ECF6\",\"showlakes\":true,\"showland\":true,\"subunitcolor\":\"white\"},\"hoverlabel\":{\"align\":\"left\"},\"hovermode\":\"closest\",\"mapbox\":{\"style\":\"light\"},\"paper_bgcolor\":\"white\",\"plot_bgcolor\":\"#E5ECF6\",\"polar\":{\"angularaxis\":{\"gridcolor\":\"white\",\"linecolor\":\"white\",\"ticks\":\"\"},\"bgcolor\":\"#E5ECF6\",\"radialaxis\":{\"gridcolor\":\"white\",\"linecolor\":\"white\",\"ticks\":\"\"}},\"scene\":{\"xaxis\":{\"backgroundcolor\":\"#E5ECF6\",\"gridcolor\":\"white\",\"gridwidth\":2,\"linecolor\":\"white\",\"showbackground\":true,\"ticks\":\"\",\"zerolinecolor\":\"white\"},\"yaxis\":{\"backgroundcolor\":\"#E5ECF6\",\"gridcolor\":\"white\",\"gridwidth\":2,\"linecolor\":\"white\",\"showbackground\":true,\"ticks\":\"\",\"zerolinecolor\":\"white\"},\"zaxis\":{\"backgroundcolor\":\"#E5ECF6\",\"gridcolor\":\"white\",\"gridwidth\":2,\"linecolor\":\"white\",\"showbackground\":true,\"ticks\":\"\",\"zerolinecolor\":\"white\"}},\"shapedefaults\":{\"line\":{\"color\":\"#2a3f5f\"}},\"ternary\":{\"aaxis\":{\"gridcolor\":\"white\",\"linecolor\":\"white\",\"ticks\":\"\"},\"baxis\":{\"gridcolor\":\"white\",\"linecolor\":\"white\",\"ticks\":\"\"},\"bgcolor\":\"#E5ECF6\",\"caxis\":{\"gridcolor\":\"white\",\"linecolor\":\"white\",\"ticks\":\"\"}},\"title\":{\"x\":0.05},\"xaxis\":{\"automargin\":true,\"gridcolor\":\"white\",\"linecolor\":\"white\",\"ticks\":\"\",\"title\":{\"standoff\":15},\"zerolinecolor\":\"white\",\"zerolinewidth\":2},\"yaxis\":{\"automargin\":true,\"gridcolor\":\"white\",\"linecolor\":\"white\",\"ticks\":\"\",\"title\":{\"standoff\":15},\"zerolinecolor\":\"white\",\"zerolinewidth\":2}}},\"title\":{\"text\":\"Daily vaccination trend\",\"x\":0.5,\"y\":0.95},\"xaxis\":{\"anchor\":\"y\",\"domain\":[0.0,1.0],\"title\":{\"text\":\"Date\"}},\"yaxis\":{\"anchor\":\"x\",\"domain\":[0.0,1.0],\"title\":{\"text\":\"Daily Vaccinations\"}}},                        {\"responsive\": true}                    ).then(function(){\n",
       "                            \n",
       "var gd = document.getElementById('6f50985c-af75-496d-8de1-6ae74e29ab3a');\n",
       "var x = new MutationObserver(function (mutations, observer) {{\n",
       "        var display = window.getComputedStyle(gd).display;\n",
       "        if (!display || display === 'none') {{\n",
       "            console.log([gd, 'removed!']);\n",
       "            Plotly.purge(gd);\n",
       "            observer.disconnect();\n",
       "        }}\n",
       "}});\n",
       "\n",
       "// Listen for the removal of the full notebook cells\n",
       "var notebookContainer = gd.closest('#notebook-container');\n",
       "if (notebookContainer) {{\n",
       "    x.observe(notebookContainer, {childList: true});\n",
       "}}\n",
       "\n",
       "// Listen for the clearing of the current output cell\n",
       "var outputEl = gd.closest('.output');\n",
       "if (outputEl) {{\n",
       "    x.observe(outputEl, {childList: true});\n",
       "}}\n",
       "\n",
       "                        })                };                });            </script>        </div>"
      ]
     },
     "metadata": {},
     "output_type": "display_data"
    }
   ],
   "source": [
    "#countrywise calculation\n",
    "ig = px.line(df, x = 'date', y ='daily_vaccinations', color = 'country')\n",
    "fig.update_layout(\n",
    "    title={\n",
    "            'text' : \"Daily vaccination trend\",\n",
    "            'y':0.95,\n",
    "            'x':0.5\n",
    "        },\n",
    "    xaxis_title=\"Date\",\n",
    "    yaxis_title=\"Daily Vaccinations\"\n",
    ")\n",
    "fig.show()\n"
   ]
  },
  {
   "cell_type": "code",
   "execution_count": null,
   "metadata": {},
   "outputs": [],
   "source": []
  }
 ],
 "metadata": {
  "kernelspec": {
   "display_name": "Python 3",
   "language": "python",
   "name": "python3"
  },
  "language_info": {
   "codemirror_mode": {
    "name": "ipython",
    "version": 3
   },
   "file_extension": ".py",
   "mimetype": "text/x-python",
   "name": "python",
   "nbconvert_exporter": "python",
   "pygments_lexer": "ipython3",
   "version": "3.8.5"
  }
 },
 "nbformat": 4,
 "nbformat_minor": 4
}
